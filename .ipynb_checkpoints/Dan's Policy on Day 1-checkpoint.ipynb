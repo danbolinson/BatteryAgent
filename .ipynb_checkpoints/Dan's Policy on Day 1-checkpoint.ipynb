{
 "cells": [
  {
   "cell_type": "markdown",
   "metadata": {},
   "source": [
    "## Python Notebook to interact with gym-battery and battery-agent\n",
    "\n",
    "This python notebook is a working document to interact with and test the environment and the agent.\n",
    "\n",
    "Note: In order for this to work, gym-battery needs to be installed as a package, using pip install -e gym-battery from wherever gym-battery exists.\n",
    "\n",
    "The ipython notebook should exist in battery dispatch by default and should be ableto access those resources so it does not necessarily need to be build/installed using pip."
   ]
  },
  {
   "cell_type": "code",
   "execution_count": 1,
   "metadata": {},
   "outputs": [],
   "source": [
    "import gym\n",
    "import gym_battery \n",
    "import numpy as np\n",
    "import pandas as pd"
   ]
  },
  {
   "cell_type": "code",
   "execution_count": 2,
   "metadata": {},
   "outputs": [
    {
     "name": "stdout",
     "output_type": "stream",
     "text": [
      "setting the standard system, A10S Med busines large usage with a 2,000kW/10,000kWh battery\n"
     ]
    }
   ],
   "source": [
    "env = gym.make('gym_battery:battery-v0', **{'N_actions':5})\n",
    "env.set_standard_system()"
   ]
  },
  {
   "cell_type": "code",
   "execution_count": 3,
   "metadata": {},
   "outputs": [
    {
     "data": {
      "text/plain": [
       "{0: -1000.0, 1: -500.0, 2: 0.0, 3: 500.0, 4: 1000.0}"
      ]
     },
     "execution_count": 3,
     "metadata": {},
     "output_type": "execute_result"
    }
   ],
   "source": [
    "# Show the possible action mapping the agent can take\n",
    "env.action_mapping"
   ]
  },
  {
   "cell_type": "code",
   "execution_count": 4,
   "metadata": {},
   "outputs": [
    {
     "name": "stdout",
     "output_type": "stream",
     "text": [
      "[  0.   0. 300. 300.]\n",
      "to\n",
      "[   24. 10000. 16200. 17200.]\n"
     ]
    }
   ],
   "source": [
    "print(env.observation_space.low)\n",
    "print(\"to\")\n",
    "print(env.observation_space.high)"
   ]
  },
  {
   "cell_type": "code",
   "execution_count": 5,
   "metadata": {},
   "outputs": [],
   "source": [
    "# Set how to structure the environment. 'count_days' will generate the a single day as an episode. THe number of days\n",
    "# given indicates how many differnet days to use.\n",
    "# This needs to be changed so that it generates LONGER episodes, not DIFFERENT episodes, but this hasn't been done yet.\n",
    "env.episode_type = 'count_days'\n",
    "env.run_N_episodes = 1\n",
    "env.load.DF = env.load.DF[76:76*4]\n",
    "env.fit_load_to_space()"
   ]
  },
  {
   "cell_type": "code",
   "execution_count": 6,
   "metadata": {},
   "outputs": [
    {
     "data": {
      "text/html": [
       "<div>\n",
       "<style scoped>\n",
       "    .dataframe tbody tr th:only-of-type {\n",
       "        vertical-align: middle;\n",
       "    }\n",
       "\n",
       "    .dataframe tbody tr th {\n",
       "        vertical-align: top;\n",
       "    }\n",
       "\n",
       "    .dataframe thead th {\n",
       "        text-align: right;\n",
       "    }\n",
       "</style>\n",
       "<table border=\"1\" class=\"dataframe\">\n",
       "  <thead>\n",
       "    <tr style=\"text-align: right;\">\n",
       "      <th></th>\n",
       "      <th>duration</th>\n",
       "      <th>start</th>\n",
       "      <th>value</th>\n",
       "      <th>duration_hrs</th>\n",
       "    </tr>\n",
       "  </thead>\n",
       "  <tbody>\n",
       "    <tr>\n",
       "      <th>76</th>\n",
       "      <td>900</td>\n",
       "      <td>2011-03-07 00:00:00</td>\n",
       "      <td>4500.0</td>\n",
       "      <td>0.25</td>\n",
       "    </tr>\n",
       "    <tr>\n",
       "      <th>77</th>\n",
       "      <td>900</td>\n",
       "      <td>2011-03-07 00:15:00</td>\n",
       "      <td>4500.0</td>\n",
       "      <td>0.25</td>\n",
       "    </tr>\n",
       "    <tr>\n",
       "      <th>78</th>\n",
       "      <td>900</td>\n",
       "      <td>2011-03-07 00:30:00</td>\n",
       "      <td>4800.0</td>\n",
       "      <td>0.25</td>\n",
       "    </tr>\n",
       "    <tr>\n",
       "      <th>79</th>\n",
       "      <td>900</td>\n",
       "      <td>2011-03-07 00:45:00</td>\n",
       "      <td>4500.0</td>\n",
       "      <td>0.25</td>\n",
       "    </tr>\n",
       "    <tr>\n",
       "      <th>80</th>\n",
       "      <td>900</td>\n",
       "      <td>2011-03-07 01:00:00</td>\n",
       "      <td>4500.0</td>\n",
       "      <td>0.25</td>\n",
       "    </tr>\n",
       "    <tr>\n",
       "      <th>81</th>\n",
       "      <td>900</td>\n",
       "      <td>2011-03-07 01:15:00</td>\n",
       "      <td>4800.0</td>\n",
       "      <td>0.25</td>\n",
       "    </tr>\n",
       "    <tr>\n",
       "      <th>82</th>\n",
       "      <td>900</td>\n",
       "      <td>2011-03-07 01:30:00</td>\n",
       "      <td>4500.0</td>\n",
       "      <td>0.25</td>\n",
       "    </tr>\n",
       "    <tr>\n",
       "      <th>83</th>\n",
       "      <td>900</td>\n",
       "      <td>2011-03-07 01:45:00</td>\n",
       "      <td>4200.0</td>\n",
       "      <td>0.25</td>\n",
       "    </tr>\n",
       "    <tr>\n",
       "      <th>84</th>\n",
       "      <td>900</td>\n",
       "      <td>2011-03-07 02:00:00</td>\n",
       "      <td>4200.0</td>\n",
       "      <td>0.25</td>\n",
       "    </tr>\n",
       "    <tr>\n",
       "      <th>85</th>\n",
       "      <td>900</td>\n",
       "      <td>2011-03-07 02:15:00</td>\n",
       "      <td>4200.0</td>\n",
       "      <td>0.25</td>\n",
       "    </tr>\n",
       "    <tr>\n",
       "      <th>86</th>\n",
       "      <td>900</td>\n",
       "      <td>2011-03-07 02:30:00</td>\n",
       "      <td>4500.0</td>\n",
       "      <td>0.25</td>\n",
       "    </tr>\n",
       "    <tr>\n",
       "      <th>87</th>\n",
       "      <td>900</td>\n",
       "      <td>2011-03-07 02:45:00</td>\n",
       "      <td>4200.0</td>\n",
       "      <td>0.25</td>\n",
       "    </tr>\n",
       "    <tr>\n",
       "      <th>88</th>\n",
       "      <td>900</td>\n",
       "      <td>2011-03-07 03:00:00</td>\n",
       "      <td>4200.0</td>\n",
       "      <td>0.25</td>\n",
       "    </tr>\n",
       "    <tr>\n",
       "      <th>89</th>\n",
       "      <td>900</td>\n",
       "      <td>2011-03-07 03:15:00</td>\n",
       "      <td>3900.0</td>\n",
       "      <td>0.25</td>\n",
       "    </tr>\n",
       "    <tr>\n",
       "      <th>90</th>\n",
       "      <td>900</td>\n",
       "      <td>2011-03-07 03:30:00</td>\n",
       "      <td>4200.0</td>\n",
       "      <td>0.25</td>\n",
       "    </tr>\n",
       "    <tr>\n",
       "      <th>91</th>\n",
       "      <td>900</td>\n",
       "      <td>2011-03-07 03:45:00</td>\n",
       "      <td>3600.0</td>\n",
       "      <td>0.25</td>\n",
       "    </tr>\n",
       "    <tr>\n",
       "      <th>92</th>\n",
       "      <td>900</td>\n",
       "      <td>2011-03-07 04:00:00</td>\n",
       "      <td>3000.0</td>\n",
       "      <td>0.25</td>\n",
       "    </tr>\n",
       "    <tr>\n",
       "      <th>93</th>\n",
       "      <td>900</td>\n",
       "      <td>2011-03-07 04:15:00</td>\n",
       "      <td>2700.0</td>\n",
       "      <td>0.25</td>\n",
       "    </tr>\n",
       "    <tr>\n",
       "      <th>94</th>\n",
       "      <td>900</td>\n",
       "      <td>2011-03-07 04:30:00</td>\n",
       "      <td>2400.0</td>\n",
       "      <td>0.25</td>\n",
       "    </tr>\n",
       "    <tr>\n",
       "      <th>95</th>\n",
       "      <td>900</td>\n",
       "      <td>2011-03-07 04:45:00</td>\n",
       "      <td>2700.0</td>\n",
       "      <td>0.25</td>\n",
       "    </tr>\n",
       "    <tr>\n",
       "      <th>96</th>\n",
       "      <td>900</td>\n",
       "      <td>2011-03-07 05:00:00</td>\n",
       "      <td>2700.0</td>\n",
       "      <td>0.25</td>\n",
       "    </tr>\n",
       "    <tr>\n",
       "      <th>97</th>\n",
       "      <td>900</td>\n",
       "      <td>2011-03-07 05:15:00</td>\n",
       "      <td>2400.0</td>\n",
       "      <td>0.25</td>\n",
       "    </tr>\n",
       "    <tr>\n",
       "      <th>98</th>\n",
       "      <td>900</td>\n",
       "      <td>2011-03-07 05:30:00</td>\n",
       "      <td>2400.0</td>\n",
       "      <td>0.25</td>\n",
       "    </tr>\n",
       "    <tr>\n",
       "      <th>99</th>\n",
       "      <td>900</td>\n",
       "      <td>2011-03-07 05:45:00</td>\n",
       "      <td>2700.0</td>\n",
       "      <td>0.25</td>\n",
       "    </tr>\n",
       "    <tr>\n",
       "      <th>100</th>\n",
       "      <td>900</td>\n",
       "      <td>2011-03-07 06:00:00</td>\n",
       "      <td>2400.0</td>\n",
       "      <td>0.25</td>\n",
       "    </tr>\n",
       "    <tr>\n",
       "      <th>101</th>\n",
       "      <td>900</td>\n",
       "      <td>2011-03-07 06:15:00</td>\n",
       "      <td>2400.0</td>\n",
       "      <td>0.25</td>\n",
       "    </tr>\n",
       "    <tr>\n",
       "      <th>102</th>\n",
       "      <td>900</td>\n",
       "      <td>2011-03-07 06:30:00</td>\n",
       "      <td>2400.0</td>\n",
       "      <td>0.25</td>\n",
       "    </tr>\n",
       "    <tr>\n",
       "      <th>103</th>\n",
       "      <td>900</td>\n",
       "      <td>2011-03-07 06:45:00</td>\n",
       "      <td>2400.0</td>\n",
       "      <td>0.25</td>\n",
       "    </tr>\n",
       "    <tr>\n",
       "      <th>104</th>\n",
       "      <td>900</td>\n",
       "      <td>2011-03-07 07:00:00</td>\n",
       "      <td>2400.0</td>\n",
       "      <td>0.25</td>\n",
       "    </tr>\n",
       "    <tr>\n",
       "      <th>105</th>\n",
       "      <td>900</td>\n",
       "      <td>2011-03-07 07:15:00</td>\n",
       "      <td>2700.0</td>\n",
       "      <td>0.25</td>\n",
       "    </tr>\n",
       "    <tr>\n",
       "      <th>...</th>\n",
       "      <td>...</td>\n",
       "      <td>...</td>\n",
       "      <td>...</td>\n",
       "      <td>...</td>\n",
       "    </tr>\n",
       "    <tr>\n",
       "      <th>274</th>\n",
       "      <td>900</td>\n",
       "      <td>2011-03-09 01:30:00</td>\n",
       "      <td>2700.0</td>\n",
       "      <td>0.25</td>\n",
       "    </tr>\n",
       "    <tr>\n",
       "      <th>275</th>\n",
       "      <td>900</td>\n",
       "      <td>2011-03-09 01:45:00</td>\n",
       "      <td>3000.0</td>\n",
       "      <td>0.25</td>\n",
       "    </tr>\n",
       "    <tr>\n",
       "      <th>276</th>\n",
       "      <td>900</td>\n",
       "      <td>2011-03-09 02:00:00</td>\n",
       "      <td>2700.0</td>\n",
       "      <td>0.25</td>\n",
       "    </tr>\n",
       "    <tr>\n",
       "      <th>277</th>\n",
       "      <td>900</td>\n",
       "      <td>2011-03-09 02:15:00</td>\n",
       "      <td>2700.0</td>\n",
       "      <td>0.25</td>\n",
       "    </tr>\n",
       "    <tr>\n",
       "      <th>278</th>\n",
       "      <td>900</td>\n",
       "      <td>2011-03-09 02:30:00</td>\n",
       "      <td>2700.0</td>\n",
       "      <td>0.25</td>\n",
       "    </tr>\n",
       "    <tr>\n",
       "      <th>279</th>\n",
       "      <td>900</td>\n",
       "      <td>2011-03-09 02:45:00</td>\n",
       "      <td>2700.0</td>\n",
       "      <td>0.25</td>\n",
       "    </tr>\n",
       "    <tr>\n",
       "      <th>280</th>\n",
       "      <td>900</td>\n",
       "      <td>2011-03-09 03:00:00</td>\n",
       "      <td>2400.0</td>\n",
       "      <td>0.25</td>\n",
       "    </tr>\n",
       "    <tr>\n",
       "      <th>281</th>\n",
       "      <td>900</td>\n",
       "      <td>2011-03-09 03:15:00</td>\n",
       "      <td>2700.0</td>\n",
       "      <td>0.25</td>\n",
       "    </tr>\n",
       "    <tr>\n",
       "      <th>282</th>\n",
       "      <td>900</td>\n",
       "      <td>2011-03-09 03:30:00</td>\n",
       "      <td>3300.0</td>\n",
       "      <td>0.25</td>\n",
       "    </tr>\n",
       "    <tr>\n",
       "      <th>283</th>\n",
       "      <td>900</td>\n",
       "      <td>2011-03-09 03:45:00</td>\n",
       "      <td>2700.0</td>\n",
       "      <td>0.25</td>\n",
       "    </tr>\n",
       "    <tr>\n",
       "      <th>284</th>\n",
       "      <td>900</td>\n",
       "      <td>2011-03-09 04:00:00</td>\n",
       "      <td>2400.0</td>\n",
       "      <td>0.25</td>\n",
       "    </tr>\n",
       "    <tr>\n",
       "      <th>285</th>\n",
       "      <td>900</td>\n",
       "      <td>2011-03-09 04:15:00</td>\n",
       "      <td>2700.0</td>\n",
       "      <td>0.25</td>\n",
       "    </tr>\n",
       "    <tr>\n",
       "      <th>286</th>\n",
       "      <td>900</td>\n",
       "      <td>2011-03-09 04:30:00</td>\n",
       "      <td>2700.0</td>\n",
       "      <td>0.25</td>\n",
       "    </tr>\n",
       "    <tr>\n",
       "      <th>287</th>\n",
       "      <td>900</td>\n",
       "      <td>2011-03-09 04:45:00</td>\n",
       "      <td>2400.0</td>\n",
       "      <td>0.25</td>\n",
       "    </tr>\n",
       "    <tr>\n",
       "      <th>288</th>\n",
       "      <td>900</td>\n",
       "      <td>2011-03-09 05:00:00</td>\n",
       "      <td>2700.0</td>\n",
       "      <td>0.25</td>\n",
       "    </tr>\n",
       "    <tr>\n",
       "      <th>289</th>\n",
       "      <td>900</td>\n",
       "      <td>2011-03-09 05:15:00</td>\n",
       "      <td>2700.0</td>\n",
       "      <td>0.25</td>\n",
       "    </tr>\n",
       "    <tr>\n",
       "      <th>290</th>\n",
       "      <td>900</td>\n",
       "      <td>2011-03-09 05:30:00</td>\n",
       "      <td>3000.0</td>\n",
       "      <td>0.25</td>\n",
       "    </tr>\n",
       "    <tr>\n",
       "      <th>291</th>\n",
       "      <td>900</td>\n",
       "      <td>2011-03-09 05:45:00</td>\n",
       "      <td>3000.0</td>\n",
       "      <td>0.25</td>\n",
       "    </tr>\n",
       "    <tr>\n",
       "      <th>292</th>\n",
       "      <td>900</td>\n",
       "      <td>2011-03-09 06:00:00</td>\n",
       "      <td>3300.0</td>\n",
       "      <td>0.25</td>\n",
       "    </tr>\n",
       "    <tr>\n",
       "      <th>293</th>\n",
       "      <td>900</td>\n",
       "      <td>2011-03-09 06:15:00</td>\n",
       "      <td>3900.0</td>\n",
       "      <td>0.25</td>\n",
       "    </tr>\n",
       "    <tr>\n",
       "      <th>294</th>\n",
       "      <td>900</td>\n",
       "      <td>2011-03-09 06:30:00</td>\n",
       "      <td>2700.0</td>\n",
       "      <td>0.25</td>\n",
       "    </tr>\n",
       "    <tr>\n",
       "      <th>295</th>\n",
       "      <td>900</td>\n",
       "      <td>2011-03-09 06:45:00</td>\n",
       "      <td>2700.0</td>\n",
       "      <td>0.25</td>\n",
       "    </tr>\n",
       "    <tr>\n",
       "      <th>296</th>\n",
       "      <td>900</td>\n",
       "      <td>2011-03-09 07:00:00</td>\n",
       "      <td>2400.0</td>\n",
       "      <td>0.25</td>\n",
       "    </tr>\n",
       "    <tr>\n",
       "      <th>297</th>\n",
       "      <td>900</td>\n",
       "      <td>2011-03-09 07:15:00</td>\n",
       "      <td>2700.0</td>\n",
       "      <td>0.25</td>\n",
       "    </tr>\n",
       "    <tr>\n",
       "      <th>298</th>\n",
       "      <td>900</td>\n",
       "      <td>2011-03-09 07:30:00</td>\n",
       "      <td>2400.0</td>\n",
       "      <td>0.25</td>\n",
       "    </tr>\n",
       "    <tr>\n",
       "      <th>299</th>\n",
       "      <td>900</td>\n",
       "      <td>2011-03-09 07:45:00</td>\n",
       "      <td>2700.0</td>\n",
       "      <td>0.25</td>\n",
       "    </tr>\n",
       "    <tr>\n",
       "      <th>300</th>\n",
       "      <td>900</td>\n",
       "      <td>2011-03-09 08:00:00</td>\n",
       "      <td>2400.0</td>\n",
       "      <td>0.25</td>\n",
       "    </tr>\n",
       "    <tr>\n",
       "      <th>301</th>\n",
       "      <td>900</td>\n",
       "      <td>2011-03-09 08:15:00</td>\n",
       "      <td>2400.0</td>\n",
       "      <td>0.25</td>\n",
       "    </tr>\n",
       "    <tr>\n",
       "      <th>302</th>\n",
       "      <td>900</td>\n",
       "      <td>2011-03-09 08:30:00</td>\n",
       "      <td>2700.0</td>\n",
       "      <td>0.25</td>\n",
       "    </tr>\n",
       "    <tr>\n",
       "      <th>303</th>\n",
       "      <td>900</td>\n",
       "      <td>2011-03-09 08:45:00</td>\n",
       "      <td>2700.0</td>\n",
       "      <td>0.25</td>\n",
       "    </tr>\n",
       "  </tbody>\n",
       "</table>\n",
       "<p>228 rows × 4 columns</p>\n",
       "</div>"
      ],
      "text/plain": [
       "    duration               start   value  duration_hrs\n",
       "76       900 2011-03-07 00:00:00  4500.0          0.25\n",
       "77       900 2011-03-07 00:15:00  4500.0          0.25\n",
       "78       900 2011-03-07 00:30:00  4800.0          0.25\n",
       "79       900 2011-03-07 00:45:00  4500.0          0.25\n",
       "80       900 2011-03-07 01:00:00  4500.0          0.25\n",
       "81       900 2011-03-07 01:15:00  4800.0          0.25\n",
       "82       900 2011-03-07 01:30:00  4500.0          0.25\n",
       "83       900 2011-03-07 01:45:00  4200.0          0.25\n",
       "84       900 2011-03-07 02:00:00  4200.0          0.25\n",
       "85       900 2011-03-07 02:15:00  4200.0          0.25\n",
       "86       900 2011-03-07 02:30:00  4500.0          0.25\n",
       "87       900 2011-03-07 02:45:00  4200.0          0.25\n",
       "88       900 2011-03-07 03:00:00  4200.0          0.25\n",
       "89       900 2011-03-07 03:15:00  3900.0          0.25\n",
       "90       900 2011-03-07 03:30:00  4200.0          0.25\n",
       "91       900 2011-03-07 03:45:00  3600.0          0.25\n",
       "92       900 2011-03-07 04:00:00  3000.0          0.25\n",
       "93       900 2011-03-07 04:15:00  2700.0          0.25\n",
       "94       900 2011-03-07 04:30:00  2400.0          0.25\n",
       "95       900 2011-03-07 04:45:00  2700.0          0.25\n",
       "96       900 2011-03-07 05:00:00  2700.0          0.25\n",
       "97       900 2011-03-07 05:15:00  2400.0          0.25\n",
       "98       900 2011-03-07 05:30:00  2400.0          0.25\n",
       "99       900 2011-03-07 05:45:00  2700.0          0.25\n",
       "100      900 2011-03-07 06:00:00  2400.0          0.25\n",
       "101      900 2011-03-07 06:15:00  2400.0          0.25\n",
       "102      900 2011-03-07 06:30:00  2400.0          0.25\n",
       "103      900 2011-03-07 06:45:00  2400.0          0.25\n",
       "104      900 2011-03-07 07:00:00  2400.0          0.25\n",
       "105      900 2011-03-07 07:15:00  2700.0          0.25\n",
       "..       ...                 ...     ...           ...\n",
       "274      900 2011-03-09 01:30:00  2700.0          0.25\n",
       "275      900 2011-03-09 01:45:00  3000.0          0.25\n",
       "276      900 2011-03-09 02:00:00  2700.0          0.25\n",
       "277      900 2011-03-09 02:15:00  2700.0          0.25\n",
       "278      900 2011-03-09 02:30:00  2700.0          0.25\n",
       "279      900 2011-03-09 02:45:00  2700.0          0.25\n",
       "280      900 2011-03-09 03:00:00  2400.0          0.25\n",
       "281      900 2011-03-09 03:15:00  2700.0          0.25\n",
       "282      900 2011-03-09 03:30:00  3300.0          0.25\n",
       "283      900 2011-03-09 03:45:00  2700.0          0.25\n",
       "284      900 2011-03-09 04:00:00  2400.0          0.25\n",
       "285      900 2011-03-09 04:15:00  2700.0          0.25\n",
       "286      900 2011-03-09 04:30:00  2700.0          0.25\n",
       "287      900 2011-03-09 04:45:00  2400.0          0.25\n",
       "288      900 2011-03-09 05:00:00  2700.0          0.25\n",
       "289      900 2011-03-09 05:15:00  2700.0          0.25\n",
       "290      900 2011-03-09 05:30:00  3000.0          0.25\n",
       "291      900 2011-03-09 05:45:00  3000.0          0.25\n",
       "292      900 2011-03-09 06:00:00  3300.0          0.25\n",
       "293      900 2011-03-09 06:15:00  3900.0          0.25\n",
       "294      900 2011-03-09 06:30:00  2700.0          0.25\n",
       "295      900 2011-03-09 06:45:00  2700.0          0.25\n",
       "296      900 2011-03-09 07:00:00  2400.0          0.25\n",
       "297      900 2011-03-09 07:15:00  2700.0          0.25\n",
       "298      900 2011-03-09 07:30:00  2400.0          0.25\n",
       "299      900 2011-03-09 07:45:00  2700.0          0.25\n",
       "300      900 2011-03-09 08:00:00  2400.0          0.25\n",
       "301      900 2011-03-09 08:15:00  2400.0          0.25\n",
       "302      900 2011-03-09 08:30:00  2700.0          0.25\n",
       "303      900 2011-03-09 08:45:00  2700.0          0.25\n",
       "\n",
       "[228 rows x 4 columns]"
      ]
     },
     "execution_count": 6,
     "metadata": {},
     "output_type": "execute_result"
    }
   ],
   "source": [
    "env.load.DF['value'][76] = 4500\n",
    "env.load.DF"
   ]
  },
  {
   "cell_type": "code",
   "execution_count": 7,
   "metadata": {},
   "outputs": [
    {
     "data": {
      "text/plain": [
       "2"
      ]
     },
     "execution_count": 7,
     "metadata": {},
     "output_type": "execute_result"
    }
   ],
   "source": [
    "# Get the do-nothing value for taking no action\n",
    "def dict_key_by_val(d, val):\n",
    "    for k in d.keys():\n",
    "        if d[k] == val:\n",
    "            return k\n",
    "    raise ValueError(\"value not found in dictionary\")\n",
    "    \n",
    "act0 = dict_key_by_val(env.action_mapping, 0)\n",
    "act0"
   ]
  },
  {
   "cell_type": "code",
   "execution_count": 8,
   "metadata": {},
   "outputs": [],
   "source": [
    "''' Set up the agent and the discretizer.'''\n",
    "from batterydispatch.agent.agents import MonteCarloAgent\n",
    "from batterydispatch.agent.discretizers import Box_Discretizer\n",
    "\n",
    "from batterydispatch.agent.policies import do_nothing\n",
    "agent = MonteCarloAgent()\n",
    "agent.set_policy(do_nothing, {'do_nothing_action': act0})\n",
    "\n",
    "# Note, you can change the size of the state sapce by changing the number of buckets, below\n",
    "agent.set_discretizer(Box_Discretizer(env.observation_space, N=[6, 4, 12, 12]))\n",
    "agent.actions = env.action_space\n",
    "agent.learning_rate = 0.05 # used for the updates of the Q estimates\n",
    "agent.subtype = 'on-policy' # Setup the MC agent for off-policy learning\n",
    "\n",
    "global eps\n",
    "eps=0"
   ]
  },
  {
   "cell_type": "code",
   "execution_count": 9,
   "metadata": {},
   "outputs": [
    {
     "data": {
      "text/plain": [
       "[array([ 4.,  8., 12., 16., 20., 24.]),\n",
       " array([ 2500.25,  5000.5 ,  7500.75, 10001.  ]),\n",
       " array([1575.08333333, 1950.16666667, 2325.25      , 2700.33333333,\n",
       "        3075.41666667, 3450.5       , 3825.58333333, 4200.66666667,\n",
       "        4575.75      , 4950.83333333, 5325.91666667, 5701.        ]),\n",
       " array([1658.41666667, 2116.83333333, 2575.25      , 3033.66666667,\n",
       "        3492.08333333, 3950.5       , 4408.91666667, 4867.33333333,\n",
       "        5325.75      , 5784.16666667, 6242.58333333, 6701.        ])]"
      ]
     },
     "execution_count": 9,
     "metadata": {},
     "output_type": "execute_result"
    }
   ],
   "source": [
    "agent.discretizer.buckets\n"
   ]
  },
  {
   "cell_type": "markdown",
   "metadata": {},
   "source": [
    "## Plot the day of data that we will be trying to learn from"
   ]
  },
  {
   "cell_type": "code",
   "execution_count": 10,
   "metadata": {},
   "outputs": [
    {
     "name": "stderr",
     "output_type": "stream",
     "text": [
      "c:\\users\\administrator\\pycharmprojects\\gym-battery\\gym_battery\\envs\\battery_env.py:160: FutureWarning: set_value is deprecated and will be removed in a future release. Please use .at[] or .iat[] accessors instead\n",
      "  self.grid_flow.set_value(self.step_ix, 'state', tuple(self.state))\n"
     ]
    },
    {
     "name": "stdout",
     "output_type": "stream",
     "text": [
      "2011-03-07\n",
      "96\n",
      "-436363.38749999995\n"
     ]
    },
    {
     "data": {
      "image/png": "[encoded data removed]",
      "text/plain": [
       "<Figure size 432x288 with 1 Axes>"
      ]
     },
     "metadata": {},
     "output_type": "display_data"
    }
   ],
   "source": [
    "\n",
    "done = False\n",
    "state = env.reset()\n",
    "i = 0\n",
    "while not done:\n",
    "    i+=1\n",
    "    _,reward,done, details = env.step(act0)\n",
    "\n",
    "from matplotlib import pyplot as plt\n",
    "plt.plot(env.grid_flow.net_flow)\n",
    "try:\n",
    "    print(list(env.grid_flow.start_date)[0])\n",
    "except:\n",
    "    pass\n",
    "print(i)\n",
    "print(reward)\n",
    "default_reward = reward\n",
    "plt.show()\n"
   ]
  },
  {
   "cell_type": "code",
   "execution_count": 11,
   "metadata": {},
   "outputs": [],
   "source": [
    "# We then initialize the agent state-action estimates, based on the original billing period.\n",
    "# We also give the do_nothing action a small bonus of 100, in order to prevent the agent from arbitrarily taking action.\n",
    "agent.initialize_state_actions(new_default=default_reward,\n",
    "                              do_nothing_action = act0,\n",
    "                              do_nothing_bonus = 100)"
   ]
  },
  {
   "cell_type": "code",
   "execution_count": 12,
   "metadata": {},
   "outputs": [
    {
     "data": {
      "text/plain": [
       "{'do_nothing_action': 2}"
      ]
     },
     "execution_count": 12,
     "metadata": {},
     "output_type": "execute_result"
    }
   ],
   "source": [
    "agent.policy_args"
   ]
  },
  {
   "cell_type": "markdown",
   "metadata": {},
   "source": [
    "## Set up the function to run the episodes, and run episodes until convergence."
   ]
  },
  {
   "cell_type": "code",
   "execution_count": 13,
   "metadata": {},
   "outputs": [],
   "source": [
    "from batterydispatch.agent.functions import log_history, run_episode"
   ]
  },
  {
   "cell_type": "code",
   "execution_count": 14,
   "metadata": {},
   "outputs": [
    {
     "data": {
      "text/plain": [
       "'MonteCarloAgent'"
      ]
     },
     "execution_count": 14,
     "metadata": {},
     "output_type": "execute_result"
    }
   ],
   "source": [
    "# We then set the final parameters guiding the episodes: The agents proclivity for random actions, \n",
    "# the number of episodes without a policy change before we can say we've converge.\n",
    "agent.set_greedy_policy(eta=0.125)\n",
    "agent.patience = 10000\n",
    "agent.name"
   ]
  },
  {
   "cell_type": "code",
   "execution_count": 15,
   "metadata": {},
   "outputs": [],
   "source": [
    "agent.learning_rate = 0.075\n",
    "\n"
   ]
  },
  {
   "cell_type": "code",
   "execution_count": 23,
   "metadata": {},
   "outputs": [
    {
     "name": "stdout",
     "output_type": "stream",
     "text": [
      "Run of a Monte Carlo On Policy agent on Day 1 with seeds, run for 10,000 episodes: Seed 5\n",
      "9987 | Current reward of -430664 / -436363, 5400.0 / 5700.0, patience=7\n",
      "9988 | Current reward of -436363 / -436363, 5700.0 / 5700.0, patience=8\n",
      "9989 | Current reward of -436363 / -436363, 5700.0 / 5700.0, patience=9\n",
      "9990 | Current reward of -445795 / -436363, 6100.0 / 5700.0, patience=1\n",
      "9991 | Current reward of -436363 / -436363, 5700.0 / 5700.0, patience=2\n",
      "9992 | Current reward of -436363 / -436363, 5700.0 / 5700.0, patience=3\n",
      "9993 | Current reward of -458058 / -436363, 6700.0 / 5700.0, patience=1\n",
      "9994 | Current reward of -436363 / -436363, 5700.0 / 5700.0, patience=2\n",
      "9995 | Current reward of -436363 / -436363, 5700.0 / 5700.0, patience=3\n",
      "9996 | Current reward of -430348 / -436363, 5400.0 / 5700.0, patience=4\n",
      "9997 | Current reward of -430348 / -436363, 5400.0 / 5700.0, patience=5\n",
      "9998 | Current reward of -430453 / -436363, 5400.0 / 5700.0, patience=6\n",
      "9999 | Current reward of -430348 / -436363, 5400.0 / 5700.0, patience=7\n",
      "10000 | Current reward of -434358 / -436363, 5600.0 / 5700.0, patience=8\n",
      "10001 | Current reward of -436363 / -436363, 5700.0 / 5700.0, patience=9\n",
      "Current reward of -430348 / -436363, 5400.0 / 5700.0, patience=10\n",
      "Current reward of -436363 / -436363, 5700.0 / 5700.0, patience=1\n",
      "Current reward of -436363 / -436363, 5700.0 / 5700.0, patience=1\n",
      "Current reward of -436363 / -436363, 5700.0 / 5700.0, patience=1\n",
      "Current reward of -436363 / -436363, 5700.0 / 5700.0, patience=1\n",
      "Current reward of -436363 / -436363, 5700.0 / 5700.0, patience=1\n",
      "Current reward of -436363 / -436363, 5700.0 / 5700.0, patience=1\n",
      "Current reward of -436363 / -436363, 5700.0 / 5700.0, patience=1\n",
      "Current reward of -436363 / -436363, 5700.0 / 5700.0, patience=1\n",
      "Current reward of -436363 / -436363, 5700.0 / 5700.0, patience=1\n"
     ]
    },
    {
     "ename": "KeyboardInterrupt",
     "evalue": "",
     "output_type": "error",
     "traceback": [
      "\u001b[1;31m---------------------------------------------------------------------------\u001b[0m",
      "\u001b[1;31mKeyboardInterrupt\u001b[0m                         Traceback (most recent call last)",
      "\u001b[1;32m<ipython-input-23-fb3f8082ef83>\u001b[0m in \u001b[0;36m<module>\u001b[1;34m()\u001b[0m\n\u001b[0;32m     34\u001b[0m     \u001b[0mreward\u001b[0m \u001b[1;33m=\u001b[0m \u001b[0mrun_episode\u001b[0m\u001b[1;33m.\u001b[0m\u001b[0mrun_episodes\u001b[0m\u001b[1;33m(\u001b[0m\u001b[0menv\u001b[0m\u001b[1;33m,\u001b[0m \u001b[0magent\u001b[0m\u001b[1;33m,\u001b[0m \u001b[0meps\u001b[0m\u001b[1;33m,\u001b[0m \u001b[0mhistory\u001b[0m\u001b[1;33m,\u001b[0m \u001b[0mdefault_reward\u001b[0m\u001b[1;33m,\u001b[0m \u001b[0mrandom_charge\u001b[0m\u001b[1;33m=\u001b[0m\u001b[1;32mFalse\u001b[0m\u001b[1;33m,\u001b[0m \u001b[0mrun_type\u001b[0m\u001b[1;33m=\u001b[0m\u001b[1;34m'once'\u001b[0m\u001b[1;33m)\u001b[0m\u001b[1;33m\u001b[0m\u001b[0m\n\u001b[0;32m     35\u001b[0m \u001b[1;33m\u001b[0m\u001b[0m\n\u001b[1;32m---> 36\u001b[1;33m     \u001b[0mlog_history\u001b[0m\u001b[1;33m.\u001b[0m\u001b[0msave_results\u001b[0m\u001b[1;33m(\u001b[0m\u001b[0menv\u001b[0m\u001b[1;33m,\u001b[0m \u001b[0magent\u001b[0m\u001b[1;33m,\u001b[0m \u001b[0mhistory\u001b[0m\u001b[1;33m,\u001b[0m \u001b[0mreward\u001b[0m\u001b[1;33m,\u001b[0m \u001b[0mscenario\u001b[0m \u001b[1;33m=\u001b[0m \u001b[0mnotes\u001b[0m\u001b[1;33m,\u001b[0m \u001b[0magent_name\u001b[0m\u001b[1;33m=\u001b[0m\u001b[0magent\u001b[0m\u001b[1;33m.\u001b[0m\u001b[0mname\u001b[0m\u001b[1;33m,\u001b[0m \u001b[0mnotes\u001b[0m\u001b[1;33m=\u001b[0m\u001b[1;34m'Iteration {}'\u001b[0m\u001b[1;33m.\u001b[0m\u001b[0mformat\u001b[0m\u001b[1;33m(\u001b[0m\u001b[0miteration\u001b[0m\u001b[1;33m)\u001b[0m\u001b[1;33m)\u001b[0m\u001b[1;33m\u001b[0m\u001b[0m\n\u001b[0m\u001b[0;32m     37\u001b[0m \u001b[1;33m\u001b[0m\u001b[0m\n\u001b[0;32m     38\u001b[0m \u001b[1;33m\u001b[0m\u001b[0m\n",
      "\u001b[1;32m~\\PycharmProjects\\BatteryAgent\\batterydispatch\\agent\\functions\\log_history.py\u001b[0m in \u001b[0;36msave_results\u001b[1;34m(env, agent, history, reward, scenario, agent_name, notes)\u001b[0m\n\u001b[0;32m     44\u001b[0m     \u001b[0mval\u001b[0m \u001b[1;33m=\u001b[0m \u001b[0mpd\u001b[0m\u001b[1;33m.\u001b[0m\u001b[0mDataFrame\u001b[0m\u001b[1;33m.\u001b[0m\u001b[0mfrom_dict\u001b[0m\u001b[1;33m(\u001b[0m\u001b[0mval\u001b[0m\u001b[1;33m,\u001b[0m \u001b[0morient\u001b[0m\u001b[1;33m=\u001b[0m\u001b[1;34m'index'\u001b[0m\u001b[1;33m)\u001b[0m\u001b[1;33m\u001b[0m\u001b[0m\n\u001b[0;32m     45\u001b[0m     \u001b[0mval\u001b[0m \u001b[1;33m=\u001b[0m \u001b[0mval\u001b[0m\u001b[1;33m.\u001b[0m\u001b[0mreset_index\u001b[0m\u001b[1;33m(\u001b[0m\u001b[1;33m)\u001b[0m\u001b[1;33m\u001b[0m\u001b[0m\n\u001b[1;32m---> 46\u001b[1;33m     \u001b[0mval\u001b[0m\u001b[1;33m[\u001b[0m\u001b[1;34m'state'\u001b[0m\u001b[1;33m]\u001b[0m \u001b[1;33m=\u001b[0m \u001b[1;33m[\u001b[0m\u001b[1;33m[\u001b[0m\u001b[0mi\u001b[0m\u001b[1;33m.\u001b[0m\u001b[0mlevel_0\u001b[0m\u001b[1;33m,\u001b[0m \u001b[0mi\u001b[0m\u001b[1;33m.\u001b[0m\u001b[0mlevel_1\u001b[0m\u001b[1;33m,\u001b[0m \u001b[0mi\u001b[0m\u001b[1;33m.\u001b[0m\u001b[0mlevel_2\u001b[0m\u001b[1;33m,\u001b[0m \u001b[0mi\u001b[0m\u001b[1;33m.\u001b[0m\u001b[0mlevel_3\u001b[0m\u001b[1;33m]\u001b[0m \u001b[1;32mfor\u001b[0m \u001b[0mix\u001b[0m\u001b[1;33m,\u001b[0m \u001b[0mi\u001b[0m \u001b[1;32min\u001b[0m \u001b[0mval\u001b[0m\u001b[1;33m.\u001b[0m\u001b[0miterrows\u001b[0m\u001b[1;33m(\u001b[0m\u001b[1;33m)\u001b[0m\u001b[1;33m]\u001b[0m\u001b[1;33m\u001b[0m\u001b[0m\n\u001b[0m\u001b[0;32m     47\u001b[0m     \u001b[0mval\u001b[0m \u001b[1;33m=\u001b[0m \u001b[0mval\u001b[0m\u001b[1;33m.\u001b[0m\u001b[0mrename\u001b[0m\u001b[1;33m(\u001b[0m\u001b[0mcolumns\u001b[0m\u001b[1;33m=\u001b[0m\u001b[1;33m{\u001b[0m\u001b[1;34m\"state\"\u001b[0m\u001b[1;33m:\u001b[0m \u001b[1;34m\"agent_state\"\u001b[0m\u001b[1;33m}\u001b[0m\u001b[1;33m)\u001b[0m\u001b[1;33m\u001b[0m\u001b[0m\n\u001b[0;32m     48\u001b[0m     \u001b[0mval\u001b[0m\u001b[1;33m.\u001b[0m\u001b[0mindex\u001b[0m \u001b[1;33m=\u001b[0m \u001b[0mval\u001b[0m\u001b[1;33m.\u001b[0m\u001b[0magent_state\u001b[0m\u001b[1;33m\u001b[0m\u001b[0m\n",
      "\u001b[1;32m~\\PycharmProjects\\BatteryAgent\\batterydispatch\\agent\\functions\\log_history.py\u001b[0m in \u001b[0;36m<listcomp>\u001b[1;34m(.0)\u001b[0m\n\u001b[0;32m     44\u001b[0m     \u001b[0mval\u001b[0m \u001b[1;33m=\u001b[0m \u001b[0mpd\u001b[0m\u001b[1;33m.\u001b[0m\u001b[0mDataFrame\u001b[0m\u001b[1;33m.\u001b[0m\u001b[0mfrom_dict\u001b[0m\u001b[1;33m(\u001b[0m\u001b[0mval\u001b[0m\u001b[1;33m,\u001b[0m \u001b[0morient\u001b[0m\u001b[1;33m=\u001b[0m\u001b[1;34m'index'\u001b[0m\u001b[1;33m)\u001b[0m\u001b[1;33m\u001b[0m\u001b[0m\n\u001b[0;32m     45\u001b[0m     \u001b[0mval\u001b[0m \u001b[1;33m=\u001b[0m \u001b[0mval\u001b[0m\u001b[1;33m.\u001b[0m\u001b[0mreset_index\u001b[0m\u001b[1;33m(\u001b[0m\u001b[1;33m)\u001b[0m\u001b[1;33m\u001b[0m\u001b[0m\n\u001b[1;32m---> 46\u001b[1;33m     \u001b[0mval\u001b[0m\u001b[1;33m[\u001b[0m\u001b[1;34m'state'\u001b[0m\u001b[1;33m]\u001b[0m \u001b[1;33m=\u001b[0m \u001b[1;33m[\u001b[0m\u001b[1;33m[\u001b[0m\u001b[0mi\u001b[0m\u001b[1;33m.\u001b[0m\u001b[0mlevel_0\u001b[0m\u001b[1;33m,\u001b[0m \u001b[0mi\u001b[0m\u001b[1;33m.\u001b[0m\u001b[0mlevel_1\u001b[0m\u001b[1;33m,\u001b[0m \u001b[0mi\u001b[0m\u001b[1;33m.\u001b[0m\u001b[0mlevel_2\u001b[0m\u001b[1;33m,\u001b[0m \u001b[0mi\u001b[0m\u001b[1;33m.\u001b[0m\u001b[0mlevel_3\u001b[0m\u001b[1;33m]\u001b[0m \u001b[1;32mfor\u001b[0m \u001b[0mix\u001b[0m\u001b[1;33m,\u001b[0m \u001b[0mi\u001b[0m \u001b[1;32min\u001b[0m \u001b[0mval\u001b[0m\u001b[1;33m.\u001b[0m\u001b[0miterrows\u001b[0m\u001b[1;33m(\u001b[0m\u001b[1;33m)\u001b[0m\u001b[1;33m]\u001b[0m\u001b[1;33m\u001b[0m\u001b[0m\n\u001b[0m\u001b[0;32m     47\u001b[0m     \u001b[0mval\u001b[0m \u001b[1;33m=\u001b[0m \u001b[0mval\u001b[0m\u001b[1;33m.\u001b[0m\u001b[0mrename\u001b[0m\u001b[1;33m(\u001b[0m\u001b[0mcolumns\u001b[0m\u001b[1;33m=\u001b[0m\u001b[1;33m{\u001b[0m\u001b[1;34m\"state\"\u001b[0m\u001b[1;33m:\u001b[0m \u001b[1;34m\"agent_state\"\u001b[0m\u001b[1;33m}\u001b[0m\u001b[1;33m)\u001b[0m\u001b[1;33m\u001b[0m\u001b[0m\n\u001b[0;32m     48\u001b[0m     \u001b[0mval\u001b[0m\u001b[1;33m.\u001b[0m\u001b[0mindex\u001b[0m \u001b[1;33m=\u001b[0m \u001b[0mval\u001b[0m\u001b[1;33m.\u001b[0m\u001b[0magent_state\u001b[0m\u001b[1;33m\u001b[0m\u001b[0m\n",
      "\u001b[1;32mC:\\ProgramData\\Anaconda3\\lib\\site-packages\\pandas\\core\\generic.py\u001b[0m in \u001b[0;36m__getattr__\u001b[1;34m(self, name)\u001b[0m\n\u001b[0;32m   5064\u001b[0m         \u001b[1;32melse\u001b[0m\u001b[1;33m:\u001b[0m\u001b[1;33m\u001b[0m\u001b[0m\n\u001b[0;32m   5065\u001b[0m             \u001b[1;32mif\u001b[0m \u001b[0mself\u001b[0m\u001b[1;33m.\u001b[0m\u001b[0m_info_axis\u001b[0m\u001b[1;33m.\u001b[0m\u001b[0m_can_hold_identifiers_and_holds_name\u001b[0m\u001b[1;33m(\u001b[0m\u001b[0mname\u001b[0m\u001b[1;33m)\u001b[0m\u001b[1;33m:\u001b[0m\u001b[1;33m\u001b[0m\u001b[0m\n\u001b[1;32m-> 5066\u001b[1;33m                 \u001b[1;32mreturn\u001b[0m \u001b[0mself\u001b[0m\u001b[1;33m[\u001b[0m\u001b[0mname\u001b[0m\u001b[1;33m]\u001b[0m\u001b[1;33m\u001b[0m\u001b[0m\n\u001b[0m\u001b[0;32m   5067\u001b[0m             \u001b[1;32mreturn\u001b[0m \u001b[0mobject\u001b[0m\u001b[1;33m.\u001b[0m\u001b[0m__getattribute__\u001b[0m\u001b[1;33m(\u001b[0m\u001b[0mself\u001b[0m\u001b[1;33m,\u001b[0m \u001b[0mname\u001b[0m\u001b[1;33m)\u001b[0m\u001b[1;33m\u001b[0m\u001b[0m\n\u001b[0;32m   5068\u001b[0m \u001b[1;33m\u001b[0m\u001b[0m\n",
      "\u001b[1;32mC:\\ProgramData\\Anaconda3\\lib\\site-packages\\pandas\\core\\series.py\u001b[0m in \u001b[0;36m__getitem__\u001b[1;34m(self, key)\u001b[0m\n\u001b[0;32m    866\u001b[0m         \u001b[0mkey\u001b[0m \u001b[1;33m=\u001b[0m \u001b[0mcom\u001b[0m\u001b[1;33m.\u001b[0m\u001b[0mapply_if_callable\u001b[0m\u001b[1;33m(\u001b[0m\u001b[0mkey\u001b[0m\u001b[1;33m,\u001b[0m \u001b[0mself\u001b[0m\u001b[1;33m)\u001b[0m\u001b[1;33m\u001b[0m\u001b[0m\n\u001b[0;32m    867\u001b[0m         \u001b[1;32mtry\u001b[0m\u001b[1;33m:\u001b[0m\u001b[1;33m\u001b[0m\u001b[0m\n\u001b[1;32m--> 868\u001b[1;33m             \u001b[0mresult\u001b[0m \u001b[1;33m=\u001b[0m \u001b[0mself\u001b[0m\u001b[1;33m.\u001b[0m\u001b[0mindex\u001b[0m\u001b[1;33m.\u001b[0m\u001b[0mget_value\u001b[0m\u001b[1;33m(\u001b[0m\u001b[0mself\u001b[0m\u001b[1;33m,\u001b[0m \u001b[0mkey\u001b[0m\u001b[1;33m)\u001b[0m\u001b[1;33m\u001b[0m\u001b[0m\n\u001b[0m\u001b[0;32m    869\u001b[0m \u001b[1;33m\u001b[0m\u001b[0m\n\u001b[0;32m    870\u001b[0m             \u001b[1;32mif\u001b[0m \u001b[1;32mnot\u001b[0m \u001b[0mis_scalar\u001b[0m\u001b[1;33m(\u001b[0m\u001b[0mresult\u001b[0m\u001b[1;33m)\u001b[0m\u001b[1;33m:\u001b[0m\u001b[1;33m\u001b[0m\u001b[0m\n",
      "\u001b[1;32mC:\\ProgramData\\Anaconda3\\lib\\site-packages\\pandas\\core\\indexes\\base.py\u001b[0m in \u001b[0;36mget_value\u001b[1;34m(self, series, key)\u001b[0m\n\u001b[0;32m   4349\u001b[0m         \u001b[1;31m# use this, e.g. DatetimeIndex\u001b[0m\u001b[1;33m\u001b[0m\u001b[1;33m\u001b[0m\u001b[0m\n\u001b[0;32m   4350\u001b[0m         \u001b[1;31m# Things like `Series._get_value` (via .at) pass the EA directly here.\u001b[0m\u001b[1;33m\u001b[0m\u001b[1;33m\u001b[0m\u001b[0m\n\u001b[1;32m-> 4351\u001b[1;33m         \u001b[0ms\u001b[0m \u001b[1;33m=\u001b[0m \u001b[0mgetattr\u001b[0m\u001b[1;33m(\u001b[0m\u001b[0mseries\u001b[0m\u001b[1;33m,\u001b[0m \u001b[1;34m'_values'\u001b[0m\u001b[1;33m,\u001b[0m \u001b[0mseries\u001b[0m\u001b[1;33m)\u001b[0m\u001b[1;33m\u001b[0m\u001b[0m\n\u001b[0m\u001b[0;32m   4352\u001b[0m         \u001b[1;32mif\u001b[0m \u001b[0misinstance\u001b[0m\u001b[1;33m(\u001b[0m\u001b[0ms\u001b[0m\u001b[1;33m,\u001b[0m \u001b[1;33m(\u001b[0m\u001b[0mExtensionArray\u001b[0m\u001b[1;33m,\u001b[0m \u001b[0mIndex\u001b[0m\u001b[1;33m)\u001b[0m\u001b[1;33m)\u001b[0m \u001b[1;32mand\u001b[0m \u001b[0mis_scalar\u001b[0m\u001b[1;33m(\u001b[0m\u001b[0mkey\u001b[0m\u001b[1;33m)\u001b[0m\u001b[1;33m:\u001b[0m\u001b[1;33m\u001b[0m\u001b[0m\n\u001b[0;32m   4353\u001b[0m             \u001b[1;31m# GH 20882, 21257\u001b[0m\u001b[1;33m\u001b[0m\u001b[1;33m\u001b[0m\u001b[0m\n",
      "\u001b[1;32mC:\\ProgramData\\Anaconda3\\lib\\site-packages\\pandas\\core\\series.py\u001b[0m in \u001b[0;36m_values\u001b[1;34m(self)\u001b[0m\n\u001b[0;32m    479\u001b[0m         \u001b[0mReturn\u001b[0m \u001b[0mthe\u001b[0m \u001b[0minternal\u001b[0m \u001b[0mrepr\u001b[0m \u001b[0mof\u001b[0m \u001b[0mthis\u001b[0m \u001b[0mdata\u001b[0m\u001b[1;33m.\u001b[0m\u001b[1;33m\u001b[0m\u001b[0m\n\u001b[0;32m    480\u001b[0m         \"\"\"\n\u001b[1;32m--> 481\u001b[1;33m         \u001b[1;32mreturn\u001b[0m \u001b[0mself\u001b[0m\u001b[1;33m.\u001b[0m\u001b[0m_data\u001b[0m\u001b[1;33m.\u001b[0m\u001b[0minternal_values\u001b[0m\u001b[1;33m(\u001b[0m\u001b[1;33m)\u001b[0m\u001b[1;33m\u001b[0m\u001b[0m\n\u001b[0m\u001b[0;32m    482\u001b[0m \u001b[1;33m\u001b[0m\u001b[0m\n\u001b[0;32m    483\u001b[0m     \u001b[1;32mdef\u001b[0m \u001b[0m_formatting_values\u001b[0m\u001b[1;33m(\u001b[0m\u001b[0mself\u001b[0m\u001b[1;33m)\u001b[0m\u001b[1;33m:\u001b[0m\u001b[1;33m\u001b[0m\u001b[0m\n",
      "\u001b[1;32mC:\\ProgramData\\Anaconda3\\lib\\site-packages\\pandas\\core\\internals\\managers.py\u001b[0m in \u001b[0;36minternal_values\u001b[1;34m(self)\u001b[0m\n\u001b[0;32m   1548\u001b[0m \u001b[1;33m\u001b[0m\u001b[0m\n\u001b[0;32m   1549\u001b[0m     \u001b[1;32mdef\u001b[0m \u001b[0minternal_values\u001b[0m\u001b[1;33m(\u001b[0m\u001b[0mself\u001b[0m\u001b[1;33m)\u001b[0m\u001b[1;33m:\u001b[0m\u001b[1;33m\u001b[0m\u001b[0m\n\u001b[1;32m-> 1550\u001b[1;33m         \u001b[1;32mreturn\u001b[0m \u001b[0mself\u001b[0m\u001b[1;33m.\u001b[0m\u001b[0m_block\u001b[0m\u001b[1;33m.\u001b[0m\u001b[0minternal_values\u001b[0m\u001b[1;33m(\u001b[0m\u001b[1;33m)\u001b[0m\u001b[1;33m\u001b[0m\u001b[0m\n\u001b[0m\u001b[0;32m   1551\u001b[0m \u001b[1;33m\u001b[0m\u001b[0m\n\u001b[0;32m   1552\u001b[0m     \u001b[1;32mdef\u001b[0m \u001b[0mformatting_values\u001b[0m\u001b[1;33m(\u001b[0m\u001b[0mself\u001b[0m\u001b[1;33m)\u001b[0m\u001b[1;33m:\u001b[0m\u001b[1;33m\u001b[0m\u001b[0m\n",
      "\u001b[1;32mC:\\ProgramData\\Anaconda3\\lib\\site-packages\\pandas\\core\\internals\\blocks.py\u001b[0m in \u001b[0;36minternal_values\u001b[1;34m(self, dtype)\u001b[0m\n\u001b[0;32m    167\u001b[0m         \u001b[0mthis\u001b[0m \u001b[0mshould\u001b[0m \u001b[0mbe\u001b[0m \u001b[0mthe\u001b[0m \u001b[0mpure\u001b[0m \u001b[0minternal\u001b[0m \u001b[0mAPI\u001b[0m \u001b[0mformat\u001b[0m\u001b[1;33m\u001b[0m\u001b[0m\n\u001b[0;32m    168\u001b[0m         \"\"\"\n\u001b[1;32m--> 169\u001b[1;33m         \u001b[1;32mreturn\u001b[0m \u001b[0mself\u001b[0m\u001b[1;33m.\u001b[0m\u001b[0mvalues\u001b[0m\u001b[1;33m\u001b[0m\u001b[0m\n\u001b[0m\u001b[0;32m    170\u001b[0m \u001b[1;33m\u001b[0m\u001b[0m\n\u001b[0;32m    171\u001b[0m     \u001b[1;32mdef\u001b[0m \u001b[0mformatting_values\u001b[0m\u001b[1;33m(\u001b[0m\u001b[0mself\u001b[0m\u001b[1;33m)\u001b[0m\u001b[1;33m:\u001b[0m\u001b[1;33m\u001b[0m\u001b[0m\n",
      "\u001b[1;31mKeyboardInterrupt\u001b[0m: "
     ]
    }
   ],
   "source": [
    "\n",
    "from IPython.display import clear_output\n",
    "\n",
    "for iteration in range(5,30):\n",
    "    notes = 'Run of a Monte Carlo On Policy agent on Day 1 with seeds, run for 10,000 episodes: Seed {}'.format(iteration)\n",
    "\n",
    "    agent.set_greedy_policy(eta=0.1)\n",
    "    starting_learning_rate = 0.075\n",
    "    agent.patience_counter = 0\n",
    "    agent.initialize_state_actions(new_default=default_reward,\n",
    "                              do_nothing_action = act0,\n",
    "                              do_nothing_bonus = 100)    \n",
    "    \n",
    "    agent.set_seed(iteration)\n",
    "    env.set_seed(iteration)\n",
    "    \n",
    "    i=30\n",
    "\n",
    "    eps=0\n",
    "    history = []\n",
    "    while eps < 10001:\n",
    "        i+=1\n",
    "        eps+= 1\n",
    "\n",
    "        if i>30:\n",
    "            i=0\n",
    "            clear_output()\n",
    "            print(notes)\n",
    "        print(eps, end=\" | \")\n",
    "        run_episode.run_episodes(env, agent, eps, history, default_reward, random_charge = False, run_type=\"once\")\n",
    "        agent.learning_rate = starting_learning_rate * np.exp(-0.0002*eps)\n",
    "    \n",
    "    agent.set_greedy_policy(eta=0)\n",
    "    reward = run_episode.run_episodes(env, agent, eps, history, default_reward, random_charge=False, run_type='once')\n",
    "    \n",
    "    log_history.save_results(env, agent, history, reward, scenario = notes, agent_name=agent.name, notes='Iteration {}'.format(iteration))\n",
    "    \n",
    "    "
   ]
  },
  {
   "cell_type": "code",
   "execution_count": 20,
   "metadata": {},
   "outputs": [
    {
     "name": "stderr",
     "output_type": "stream",
     "text": [
      "c:\\users\\administrator\\pycharmprojects\\gym-battery\\gym_battery\\envs\\battery_env.py:160: FutureWarning: set_value is deprecated and will be removed in a future release. Please use .at[] or .iat[] accessors instead\n",
      "  self.grid_flow.set_value(self.step_ix, 'state', tuple(self.state))\n"
     ]
    },
    {
     "name": "stdout",
     "output_type": "stream",
     "text": [
      "Current reward of -424266 / -436363, 5000.0 / 5700.0, patience=3\n"
     ]
    },
    {
     "data": {
      "text/plain": [
       "-424266.71249999997"
      ]
     },
     "execution_count": 20,
     "metadata": {},
     "output_type": "execute_result"
    }
   ],
   "source": [
    "agent.set_greedy_policy(0)\n",
    "run_episode.run_episodes(env, agent, eps, history, default_reward, random_charge=False, run_type='once')\n"
   ]
  },
  {
   "cell_type": "code",
   "execution_count": 21,
   "metadata": {},
   "outputs": [
    {
     "data": {
      "text/plain": [
       "-436363.38749999995"
      ]
     },
     "execution_count": 21,
     "metadata": {},
     "output_type": "execute_result"
    }
   ],
   "source": [
    "default_reward"
   ]
  },
  {
   "cell_type": "code",
   "execution_count": null,
   "metadata": {},
   "outputs": [],
   "source": [
    "log_history.save_results(env, agent, history, reward, scenario = notes, agent_name=agent.name, notes='Iteration {}'.format(iteration))\n"
   ]
  },
  {
   "cell_type": "code",
   "execution_count": null,
   "metadata": {},
   "outputs": [],
   "source": [
    "from matplotlib import pyplot as plt\n",
    "plt.plot(np.exp(-0.0002*np.arange(0,10000))*0.075)\n",
    "plt.show()"
   ]
  },
  {
   "cell_type": "code",
   "execution_count": null,
   "metadata": {},
   "outputs": [],
   "source": [
    "agent.history"
   ]
  },
  {
   "cell_type": "code",
   "execution_count": null,
   "metadata": {},
   "outputs": [],
   "source": [
    "Qs = pd.DataFrame.from_dict(agent.S_A_values, orient='index')\n",
    "Qs.to_clipboard()"
   ]
  },
  {
   "cell_type": "code",
   "execution_count": null,
   "metadata": {},
   "outputs": [],
   "source": [
    "counts = pd.DataFrame.from_dict(agent.S_A_frequency, orient='index')\n",
    "counts.to_clipboard\n"
   ]
  },
  {
   "cell_type": "code",
   "execution_count": null,
   "metadata": {},
   "outputs": [],
   "source": [
    "print(f\"The agent converged after {eps} episodes\")"
   ]
  },
  {
   "cell_type": "markdown",
   "metadata": {},
   "source": [
    "Agent has taken between 10 and 30 minutes, and between 700 and 2262 episodes, to converge on day 1. Optimal policy:\n",
    "Current reward of -397414.125 / -406791.825, 5600.0 / 6000.0, patience=21\n",
    "\n",
    "For 2 days, agent took 5 hours 8 minutes, and converged after 21200 episodes."
   ]
  },
  {
   "cell_type": "markdown",
   "metadata": {},
   "source": [
    "## Then we allow the agent to take entirely greedy actions and run the algorithm to see how much the agent learned. "
   ]
  },
  {
   "cell_type": "code",
   "execution_count": null,
   "metadata": {},
   "outputs": [],
   "source": [
    "agent.set_greedy_policy(eta=0)\n",
    "    \n",
    "state = env.reset(random_charge=False)\n",
    "done = False\n",
    "while not done:\n",
    "    action = agent.get_action(state, list(env.action_mapping.keys()), 0.25)\n",
    "    #print(state)\n",
    "    #action = int(input(\"action:\"))\n",
    "\n",
    "    #print(action)\n",
    "    state, reward, done, details = env.step(action)\n",
    "\n",
    "try:\n",
    "    new_demand = max(env.grid_flow.net_flow)\n",
    "    orig_demand = max(env.grid_flow.load)\n",
    "except AttributeError:\n",
    "    new_demand = \"???\"\n",
    "    orig_demand = \"???\"\n",
    "    \n",
    "    env.grid_flow['final_reward'] = reward\n",
    "    env.grid_flow['original_reward'] = default_reward\n",
    "\n",
    "\n",
    "print(f\"Current reward of {reward} / {default_reward}, {new_demand} / {orig_demand}, patience={agent.patience_counter}\")\n",
    "\n",
    "\n"
   ]
  },
  {
   "cell_type": "code",
   "execution_count": null,
   "metadata": {},
   "outputs": [],
   "source": []
  },
  {
   "cell_type": "code",
   "execution_count": null,
   "metadata": {},
   "outputs": [],
   "source": [
    "DF = save_results(scenario='Day1_load', agent_name='DynaQ', notes=\"ran the DynaQ agent again on the Day1 data, for a second (same agent)\")"
   ]
  },
  {
   "cell_type": "code",
   "execution_count": null,
   "metadata": {},
   "outputs": [],
   "source": [
    "pd.to_datetime(DF.saved_timestamp)"
   ]
  },
  {
   "cell_type": "code",
   "execution_count": null,
   "metadata": {},
   "outputs": [],
   "source": [
    "sum(DF.index.duplicated())"
   ]
  },
  {
   "cell_type": "code",
   "execution_count": null,
   "metadata": {},
   "outputs": [],
   "source": []
  }
 ],
 "metadata": {
  "kernelspec": {
   "display_name": "Python 3",
   "language": "python",
   "name": "python3"
  },
  "language_info": {
   "codemirror_mode": {
    "name": "ipython",
    "version": 3
   },
   "file_extension": ".py",
   "mimetype": "text/x-python",
   "name": "python",
   "nbconvert_exporter": "python",
   "pygments_lexer": "ipython3",
   "version": "3.6.5"
  }
 },
 "nbformat": 4,
 "nbformat_minor": 2
}
