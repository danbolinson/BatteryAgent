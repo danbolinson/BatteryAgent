{
 "cells": [
  {
   "cell_type": "markdown",
   "metadata": {},
   "source": [
    "## Python Notebook to interact with gym-battery and battery-agent\n",
    "\n",
    "This python notebook is a working document to interact with and test the environment and the agent.\n",
    "\n",
    "Note: In order for this to work, gym-battery needs to be installed as a package, using pip install -e gym-battery from wherever gym-battery exists.\n",
    "\n",
    "The ipython notebook should exist in battery dispatch by default and should be ableto access those resources so it does not necessarily need to be build/installed using pip."
   ]
  },
  {
   "cell_type": "code",
   "execution_count": 1,
   "metadata": {},
   "outputs": [
    {
     "name": "stderr",
     "output_type": "stream",
     "text": [
      "C:\\ProgramData\\Anaconda3\\lib\\importlib\\_bootstrap.py:219: RuntimeWarning: numpy.ufunc size changed, may indicate binary incompatibility. Expected 192 from C header, got 216 from PyObject\n",
      "  return f(*args, **kwds)\n",
      "C:\\ProgramData\\Anaconda3\\lib\\importlib\\_bootstrap.py:219: RuntimeWarning: numpy.ufunc size changed, may indicate binary incompatibility. Expected 192 from C header, got 216 from PyObject\n",
      "  return f(*args, **kwds)\n"
     ]
    }
   ],
   "source": [
    "import gym\n",
    "import gym_battery \n",
    "import numpy as np\n",
    "import pandas as pd"
   ]
  },
  {
   "cell_type": "code",
   "execution_count": 2,
   "metadata": {},
   "outputs": [
    {
     "name": "stdout",
     "output_type": "stream",
     "text": [
      "setting the standard system, A10S Med busines large usage with a 2,000kW/10,000kWh battery\n"
     ]
    }
   ],
   "source": [
    "env = gym.make('gym_battery:battery-v0', **{'N_actions':5})\n",
    "env.set_standard_system()"
   ]
  },
  {
   "cell_type": "code",
   "execution_count": 3,
   "metadata": {},
   "outputs": [
    {
     "data": {
      "text/plain": [
       "{0: -1000.0, 1: -500.0, 2: 0.0, 3: 500.0, 4: 1000.0}"
      ]
     },
     "execution_count": 3,
     "metadata": {},
     "output_type": "execute_result"
    }
   ],
   "source": [
    "# Show the possible action mapping the agent can take\n",
    "env.action_mapping"
   ]
  },
  {
   "cell_type": "code",
   "execution_count": 4,
   "metadata": {},
   "outputs": [
    {
     "name": "stdout",
     "output_type": "stream",
     "text": [
      "[  0.   0. 300. 300.]\n",
      "to\n",
      "[   24. 10000. 16200. 17200.]\n"
     ]
    }
   ],
   "source": [
    "print(env.observation_space.low)\n",
    "print(\"to\")\n",
    "print(env.observation_space.high)"
   ]
  },
  {
   "cell_type": "code",
   "execution_count": 5,
   "metadata": {},
   "outputs": [],
   "source": [
    "# Set how to structure the environment. 'count_days' will generate the a single day as an episode. THe number of days\n",
    "# given indicates how many differnet days to use.\n",
    "# This needs to be changed so that it generates LONGER episodes, not DIFFERENT episodes, but this hasn't been done yet.\n",
    "env.episode_type = 'count_days'\n",
    "env.run_N_episodes = 1\n",
    "env.load.DF = env.load.DF[76:76*4]\n",
    "env.fit_load_to_space()"
   ]
  },
  {
   "cell_type": "code",
   "execution_count": 6,
   "metadata": {},
   "outputs": [
    {
     "data": {
      "text/html": [
       "<div>\n",
       "<style scoped>\n",
       "    .dataframe tbody tr th:only-of-type {\n",
       "        vertical-align: middle;\n",
       "    }\n",
       "\n",
       "    .dataframe tbody tr th {\n",
       "        vertical-align: top;\n",
       "    }\n",
       "\n",
       "    .dataframe thead th {\n",
       "        text-align: right;\n",
       "    }\n",
       "</style>\n",
       "<table border=\"1\" class=\"dataframe\">\n",
       "  <thead>\n",
       "    <tr style=\"text-align: right;\">\n",
       "      <th></th>\n",
       "      <th>duration</th>\n",
       "      <th>start</th>\n",
       "      <th>value</th>\n",
       "      <th>duration_hrs</th>\n",
       "    </tr>\n",
       "  </thead>\n",
       "  <tbody>\n",
       "    <tr>\n",
       "      <th>76</th>\n",
       "      <td>900</td>\n",
       "      <td>2011-03-07 00:00:00</td>\n",
       "      <td>4500.0</td>\n",
       "      <td>0.25</td>\n",
       "    </tr>\n",
       "    <tr>\n",
       "      <th>77</th>\n",
       "      <td>900</td>\n",
       "      <td>2011-03-07 00:15:00</td>\n",
       "      <td>4500.0</td>\n",
       "      <td>0.25</td>\n",
       "    </tr>\n",
       "    <tr>\n",
       "      <th>78</th>\n",
       "      <td>900</td>\n",
       "      <td>2011-03-07 00:30:00</td>\n",
       "      <td>4800.0</td>\n",
       "      <td>0.25</td>\n",
       "    </tr>\n",
       "    <tr>\n",
       "      <th>79</th>\n",
       "      <td>900</td>\n",
       "      <td>2011-03-07 00:45:00</td>\n",
       "      <td>4500.0</td>\n",
       "      <td>0.25</td>\n",
       "    </tr>\n",
       "    <tr>\n",
       "      <th>80</th>\n",
       "      <td>900</td>\n",
       "      <td>2011-03-07 01:00:00</td>\n",
       "      <td>4500.0</td>\n",
       "      <td>0.25</td>\n",
       "    </tr>\n",
       "    <tr>\n",
       "      <th>81</th>\n",
       "      <td>900</td>\n",
       "      <td>2011-03-07 01:15:00</td>\n",
       "      <td>4800.0</td>\n",
       "      <td>0.25</td>\n",
       "    </tr>\n",
       "    <tr>\n",
       "      <th>82</th>\n",
       "      <td>900</td>\n",
       "      <td>2011-03-07 01:30:00</td>\n",
       "      <td>4500.0</td>\n",
       "      <td>0.25</td>\n",
       "    </tr>\n",
       "    <tr>\n",
       "      <th>83</th>\n",
       "      <td>900</td>\n",
       "      <td>2011-03-07 01:45:00</td>\n",
       "      <td>4200.0</td>\n",
       "      <td>0.25</td>\n",
       "    </tr>\n",
       "    <tr>\n",
       "      <th>84</th>\n",
       "      <td>900</td>\n",
       "      <td>2011-03-07 02:00:00</td>\n",
       "      <td>4200.0</td>\n",
       "      <td>0.25</td>\n",
       "    </tr>\n",
       "    <tr>\n",
       "      <th>85</th>\n",
       "      <td>900</td>\n",
       "      <td>2011-03-07 02:15:00</td>\n",
       "      <td>4200.0</td>\n",
       "      <td>0.25</td>\n",
       "    </tr>\n",
       "    <tr>\n",
       "      <th>86</th>\n",
       "      <td>900</td>\n",
       "      <td>2011-03-07 02:30:00</td>\n",
       "      <td>4500.0</td>\n",
       "      <td>0.25</td>\n",
       "    </tr>\n",
       "    <tr>\n",
       "      <th>87</th>\n",
       "      <td>900</td>\n",
       "      <td>2011-03-07 02:45:00</td>\n",
       "      <td>4200.0</td>\n",
       "      <td>0.25</td>\n",
       "    </tr>\n",
       "    <tr>\n",
       "      <th>88</th>\n",
       "      <td>900</td>\n",
       "      <td>2011-03-07 03:00:00</td>\n",
       "      <td>4200.0</td>\n",
       "      <td>0.25</td>\n",
       "    </tr>\n",
       "    <tr>\n",
       "      <th>89</th>\n",
       "      <td>900</td>\n",
       "      <td>2011-03-07 03:15:00</td>\n",
       "      <td>3900.0</td>\n",
       "      <td>0.25</td>\n",
       "    </tr>\n",
       "    <tr>\n",
       "      <th>90</th>\n",
       "      <td>900</td>\n",
       "      <td>2011-03-07 03:30:00</td>\n",
       "      <td>4200.0</td>\n",
       "      <td>0.25</td>\n",
       "    </tr>\n",
       "    <tr>\n",
       "      <th>91</th>\n",
       "      <td>900</td>\n",
       "      <td>2011-03-07 03:45:00</td>\n",
       "      <td>3600.0</td>\n",
       "      <td>0.25</td>\n",
       "    </tr>\n",
       "    <tr>\n",
       "      <th>92</th>\n",
       "      <td>900</td>\n",
       "      <td>2011-03-07 04:00:00</td>\n",
       "      <td>3000.0</td>\n",
       "      <td>0.25</td>\n",
       "    </tr>\n",
       "    <tr>\n",
       "      <th>93</th>\n",
       "      <td>900</td>\n",
       "      <td>2011-03-07 04:15:00</td>\n",
       "      <td>2700.0</td>\n",
       "      <td>0.25</td>\n",
       "    </tr>\n",
       "    <tr>\n",
       "      <th>94</th>\n",
       "      <td>900</td>\n",
       "      <td>2011-03-07 04:30:00</td>\n",
       "      <td>2400.0</td>\n",
       "      <td>0.25</td>\n",
       "    </tr>\n",
       "    <tr>\n",
       "      <th>95</th>\n",
       "      <td>900</td>\n",
       "      <td>2011-03-07 04:45:00</td>\n",
       "      <td>2700.0</td>\n",
       "      <td>0.25</td>\n",
       "    </tr>\n",
       "    <tr>\n",
       "      <th>96</th>\n",
       "      <td>900</td>\n",
       "      <td>2011-03-07 05:00:00</td>\n",
       "      <td>2700.0</td>\n",
       "      <td>0.25</td>\n",
       "    </tr>\n",
       "    <tr>\n",
       "      <th>97</th>\n",
       "      <td>900</td>\n",
       "      <td>2011-03-07 05:15:00</td>\n",
       "      <td>2400.0</td>\n",
       "      <td>0.25</td>\n",
       "    </tr>\n",
       "    <tr>\n",
       "      <th>98</th>\n",
       "      <td>900</td>\n",
       "      <td>2011-03-07 05:30:00</td>\n",
       "      <td>2400.0</td>\n",
       "      <td>0.25</td>\n",
       "    </tr>\n",
       "    <tr>\n",
       "      <th>99</th>\n",
       "      <td>900</td>\n",
       "      <td>2011-03-07 05:45:00</td>\n",
       "      <td>2700.0</td>\n",
       "      <td>0.25</td>\n",
       "    </tr>\n",
       "    <tr>\n",
       "      <th>100</th>\n",
       "      <td>900</td>\n",
       "      <td>2011-03-07 06:00:00</td>\n",
       "      <td>2400.0</td>\n",
       "      <td>0.25</td>\n",
       "    </tr>\n",
       "    <tr>\n",
       "      <th>101</th>\n",
       "      <td>900</td>\n",
       "      <td>2011-03-07 06:15:00</td>\n",
       "      <td>2400.0</td>\n",
       "      <td>0.25</td>\n",
       "    </tr>\n",
       "    <tr>\n",
       "      <th>102</th>\n",
       "      <td>900</td>\n",
       "      <td>2011-03-07 06:30:00</td>\n",
       "      <td>2400.0</td>\n",
       "      <td>0.25</td>\n",
       "    </tr>\n",
       "    <tr>\n",
       "      <th>103</th>\n",
       "      <td>900</td>\n",
       "      <td>2011-03-07 06:45:00</td>\n",
       "      <td>2400.0</td>\n",
       "      <td>0.25</td>\n",
       "    </tr>\n",
       "    <tr>\n",
       "      <th>104</th>\n",
       "      <td>900</td>\n",
       "      <td>2011-03-07 07:00:00</td>\n",
       "      <td>2400.0</td>\n",
       "      <td>0.25</td>\n",
       "    </tr>\n",
       "    <tr>\n",
       "      <th>105</th>\n",
       "      <td>900</td>\n",
       "      <td>2011-03-07 07:15:00</td>\n",
       "      <td>2700.0</td>\n",
       "      <td>0.25</td>\n",
       "    </tr>\n",
       "    <tr>\n",
       "      <th>...</th>\n",
       "      <td>...</td>\n",
       "      <td>...</td>\n",
       "      <td>...</td>\n",
       "      <td>...</td>\n",
       "    </tr>\n",
       "    <tr>\n",
       "      <th>274</th>\n",
       "      <td>900</td>\n",
       "      <td>2011-03-09 01:30:00</td>\n",
       "      <td>2700.0</td>\n",
       "      <td>0.25</td>\n",
       "    </tr>\n",
       "    <tr>\n",
       "      <th>275</th>\n",
       "      <td>900</td>\n",
       "      <td>2011-03-09 01:45:00</td>\n",
       "      <td>3000.0</td>\n",
       "      <td>0.25</td>\n",
       "    </tr>\n",
       "    <tr>\n",
       "      <th>276</th>\n",
       "      <td>900</td>\n",
       "      <td>2011-03-09 02:00:00</td>\n",
       "      <td>2700.0</td>\n",
       "      <td>0.25</td>\n",
       "    </tr>\n",
       "    <tr>\n",
       "      <th>277</th>\n",
       "      <td>900</td>\n",
       "      <td>2011-03-09 02:15:00</td>\n",
       "      <td>2700.0</td>\n",
       "      <td>0.25</td>\n",
       "    </tr>\n",
       "    <tr>\n",
       "      <th>278</th>\n",
       "      <td>900</td>\n",
       "      <td>2011-03-09 02:30:00</td>\n",
       "      <td>2700.0</td>\n",
       "      <td>0.25</td>\n",
       "    </tr>\n",
       "    <tr>\n",
       "      <th>279</th>\n",
       "      <td>900</td>\n",
       "      <td>2011-03-09 02:45:00</td>\n",
       "      <td>2700.0</td>\n",
       "      <td>0.25</td>\n",
       "    </tr>\n",
       "    <tr>\n",
       "      <th>280</th>\n",
       "      <td>900</td>\n",
       "      <td>2011-03-09 03:00:00</td>\n",
       "      <td>2400.0</td>\n",
       "      <td>0.25</td>\n",
       "    </tr>\n",
       "    <tr>\n",
       "      <th>281</th>\n",
       "      <td>900</td>\n",
       "      <td>2011-03-09 03:15:00</td>\n",
       "      <td>2700.0</td>\n",
       "      <td>0.25</td>\n",
       "    </tr>\n",
       "    <tr>\n",
       "      <th>282</th>\n",
       "      <td>900</td>\n",
       "      <td>2011-03-09 03:30:00</td>\n",
       "      <td>3300.0</td>\n",
       "      <td>0.25</td>\n",
       "    </tr>\n",
       "    <tr>\n",
       "      <th>283</th>\n",
       "      <td>900</td>\n",
       "      <td>2011-03-09 03:45:00</td>\n",
       "      <td>2700.0</td>\n",
       "      <td>0.25</td>\n",
       "    </tr>\n",
       "    <tr>\n",
       "      <th>284</th>\n",
       "      <td>900</td>\n",
       "      <td>2011-03-09 04:00:00</td>\n",
       "      <td>2400.0</td>\n",
       "      <td>0.25</td>\n",
       "    </tr>\n",
       "    <tr>\n",
       "      <th>285</th>\n",
       "      <td>900</td>\n",
       "      <td>2011-03-09 04:15:00</td>\n",
       "      <td>2700.0</td>\n",
       "      <td>0.25</td>\n",
       "    </tr>\n",
       "    <tr>\n",
       "      <th>286</th>\n",
       "      <td>900</td>\n",
       "      <td>2011-03-09 04:30:00</td>\n",
       "      <td>2700.0</td>\n",
       "      <td>0.25</td>\n",
       "    </tr>\n",
       "    <tr>\n",
       "      <th>287</th>\n",
       "      <td>900</td>\n",
       "      <td>2011-03-09 04:45:00</td>\n",
       "      <td>2400.0</td>\n",
       "      <td>0.25</td>\n",
       "    </tr>\n",
       "    <tr>\n",
       "      <th>288</th>\n",
       "      <td>900</td>\n",
       "      <td>2011-03-09 05:00:00</td>\n",
       "      <td>2700.0</td>\n",
       "      <td>0.25</td>\n",
       "    </tr>\n",
       "    <tr>\n",
       "      <th>289</th>\n",
       "      <td>900</td>\n",
       "      <td>2011-03-09 05:15:00</td>\n",
       "      <td>2700.0</td>\n",
       "      <td>0.25</td>\n",
       "    </tr>\n",
       "    <tr>\n",
       "      <th>290</th>\n",
       "      <td>900</td>\n",
       "      <td>2011-03-09 05:30:00</td>\n",
       "      <td>3000.0</td>\n",
       "      <td>0.25</td>\n",
       "    </tr>\n",
       "    <tr>\n",
       "      <th>291</th>\n",
       "      <td>900</td>\n",
       "      <td>2011-03-09 05:45:00</td>\n",
       "      <td>3000.0</td>\n",
       "      <td>0.25</td>\n",
       "    </tr>\n",
       "    <tr>\n",
       "      <th>292</th>\n",
       "      <td>900</td>\n",
       "      <td>2011-03-09 06:00:00</td>\n",
       "      <td>3300.0</td>\n",
       "      <td>0.25</td>\n",
       "    </tr>\n",
       "    <tr>\n",
       "      <th>293</th>\n",
       "      <td>900</td>\n",
       "      <td>2011-03-09 06:15:00</td>\n",
       "      <td>3900.0</td>\n",
       "      <td>0.25</td>\n",
       "    </tr>\n",
       "    <tr>\n",
       "      <th>294</th>\n",
       "      <td>900</td>\n",
       "      <td>2011-03-09 06:30:00</td>\n",
       "      <td>2700.0</td>\n",
       "      <td>0.25</td>\n",
       "    </tr>\n",
       "    <tr>\n",
       "      <th>295</th>\n",
       "      <td>900</td>\n",
       "      <td>2011-03-09 06:45:00</td>\n",
       "      <td>2700.0</td>\n",
       "      <td>0.25</td>\n",
       "    </tr>\n",
       "    <tr>\n",
       "      <th>296</th>\n",
       "      <td>900</td>\n",
       "      <td>2011-03-09 07:00:00</td>\n",
       "      <td>2400.0</td>\n",
       "      <td>0.25</td>\n",
       "    </tr>\n",
       "    <tr>\n",
       "      <th>297</th>\n",
       "      <td>900</td>\n",
       "      <td>2011-03-09 07:15:00</td>\n",
       "      <td>2700.0</td>\n",
       "      <td>0.25</td>\n",
       "    </tr>\n",
       "    <tr>\n",
       "      <th>298</th>\n",
       "      <td>900</td>\n",
       "      <td>2011-03-09 07:30:00</td>\n",
       "      <td>2400.0</td>\n",
       "      <td>0.25</td>\n",
       "    </tr>\n",
       "    <tr>\n",
       "      <th>299</th>\n",
       "      <td>900</td>\n",
       "      <td>2011-03-09 07:45:00</td>\n",
       "      <td>2700.0</td>\n",
       "      <td>0.25</td>\n",
       "    </tr>\n",
       "    <tr>\n",
       "      <th>300</th>\n",
       "      <td>900</td>\n",
       "      <td>2011-03-09 08:00:00</td>\n",
       "      <td>2400.0</td>\n",
       "      <td>0.25</td>\n",
       "    </tr>\n",
       "    <tr>\n",
       "      <th>301</th>\n",
       "      <td>900</td>\n",
       "      <td>2011-03-09 08:15:00</td>\n",
       "      <td>2400.0</td>\n",
       "      <td>0.25</td>\n",
       "    </tr>\n",
       "    <tr>\n",
       "      <th>302</th>\n",
       "      <td>900</td>\n",
       "      <td>2011-03-09 08:30:00</td>\n",
       "      <td>2700.0</td>\n",
       "      <td>0.25</td>\n",
       "    </tr>\n",
       "    <tr>\n",
       "      <th>303</th>\n",
       "      <td>900</td>\n",
       "      <td>2011-03-09 08:45:00</td>\n",
       "      <td>2700.0</td>\n",
       "      <td>0.25</td>\n",
       "    </tr>\n",
       "  </tbody>\n",
       "</table>\n",
       "<p>228 rows × 4 columns</p>\n",
       "</div>"
      ],
      "text/plain": [
       "    duration               start   value  duration_hrs\n",
       "76       900 2011-03-07 00:00:00  4500.0          0.25\n",
       "77       900 2011-03-07 00:15:00  4500.0          0.25\n",
       "78       900 2011-03-07 00:30:00  4800.0          0.25\n",
       "79       900 2011-03-07 00:45:00  4500.0          0.25\n",
       "80       900 2011-03-07 01:00:00  4500.0          0.25\n",
       "81       900 2011-03-07 01:15:00  4800.0          0.25\n",
       "82       900 2011-03-07 01:30:00  4500.0          0.25\n",
       "83       900 2011-03-07 01:45:00  4200.0          0.25\n",
       "84       900 2011-03-07 02:00:00  4200.0          0.25\n",
       "85       900 2011-03-07 02:15:00  4200.0          0.25\n",
       "86       900 2011-03-07 02:30:00  4500.0          0.25\n",
       "87       900 2011-03-07 02:45:00  4200.0          0.25\n",
       "88       900 2011-03-07 03:00:00  4200.0          0.25\n",
       "89       900 2011-03-07 03:15:00  3900.0          0.25\n",
       "90       900 2011-03-07 03:30:00  4200.0          0.25\n",
       "91       900 2011-03-07 03:45:00  3600.0          0.25\n",
       "92       900 2011-03-07 04:00:00  3000.0          0.25\n",
       "93       900 2011-03-07 04:15:00  2700.0          0.25\n",
       "94       900 2011-03-07 04:30:00  2400.0          0.25\n",
       "95       900 2011-03-07 04:45:00  2700.0          0.25\n",
       "96       900 2011-03-07 05:00:00  2700.0          0.25\n",
       "97       900 2011-03-07 05:15:00  2400.0          0.25\n",
       "98       900 2011-03-07 05:30:00  2400.0          0.25\n",
       "99       900 2011-03-07 05:45:00  2700.0          0.25\n",
       "100      900 2011-03-07 06:00:00  2400.0          0.25\n",
       "101      900 2011-03-07 06:15:00  2400.0          0.25\n",
       "102      900 2011-03-07 06:30:00  2400.0          0.25\n",
       "103      900 2011-03-07 06:45:00  2400.0          0.25\n",
       "104      900 2011-03-07 07:00:00  2400.0          0.25\n",
       "105      900 2011-03-07 07:15:00  2700.0          0.25\n",
       "..       ...                 ...     ...           ...\n",
       "274      900 2011-03-09 01:30:00  2700.0          0.25\n",
       "275      900 2011-03-09 01:45:00  3000.0          0.25\n",
       "276      900 2011-03-09 02:00:00  2700.0          0.25\n",
       "277      900 2011-03-09 02:15:00  2700.0          0.25\n",
       "278      900 2011-03-09 02:30:00  2700.0          0.25\n",
       "279      900 2011-03-09 02:45:00  2700.0          0.25\n",
       "280      900 2011-03-09 03:00:00  2400.0          0.25\n",
       "281      900 2011-03-09 03:15:00  2700.0          0.25\n",
       "282      900 2011-03-09 03:30:00  3300.0          0.25\n",
       "283      900 2011-03-09 03:45:00  2700.0          0.25\n",
       "284      900 2011-03-09 04:00:00  2400.0          0.25\n",
       "285      900 2011-03-09 04:15:00  2700.0          0.25\n",
       "286      900 2011-03-09 04:30:00  2700.0          0.25\n",
       "287      900 2011-03-09 04:45:00  2400.0          0.25\n",
       "288      900 2011-03-09 05:00:00  2700.0          0.25\n",
       "289      900 2011-03-09 05:15:00  2700.0          0.25\n",
       "290      900 2011-03-09 05:30:00  3000.0          0.25\n",
       "291      900 2011-03-09 05:45:00  3000.0          0.25\n",
       "292      900 2011-03-09 06:00:00  3300.0          0.25\n",
       "293      900 2011-03-09 06:15:00  3900.0          0.25\n",
       "294      900 2011-03-09 06:30:00  2700.0          0.25\n",
       "295      900 2011-03-09 06:45:00  2700.0          0.25\n",
       "296      900 2011-03-09 07:00:00  2400.0          0.25\n",
       "297      900 2011-03-09 07:15:00  2700.0          0.25\n",
       "298      900 2011-03-09 07:30:00  2400.0          0.25\n",
       "299      900 2011-03-09 07:45:00  2700.0          0.25\n",
       "300      900 2011-03-09 08:00:00  2400.0          0.25\n",
       "301      900 2011-03-09 08:15:00  2400.0          0.25\n",
       "302      900 2011-03-09 08:30:00  2700.0          0.25\n",
       "303      900 2011-03-09 08:45:00  2700.0          0.25\n",
       "\n",
       "[228 rows x 4 columns]"
      ]
     },
     "execution_count": 6,
     "metadata": {},
     "output_type": "execute_result"
    }
   ],
   "source": [
    "env.load.DF['value'][76] = 4500\n",
    "env.load.DF"
   ]
  },
  {
   "cell_type": "code",
   "execution_count": 7,
   "metadata": {},
   "outputs": [
    {
     "data": {
      "text/plain": [
       "2"
      ]
     },
     "execution_count": 7,
     "metadata": {},
     "output_type": "execute_result"
    }
   ],
   "source": [
    "# Get the do-nothing value for taking no action\n",
    "def dict_key_by_val(d, val):\n",
    "    for k in d.keys():\n",
    "        if d[k] == val:\n",
    "            return k\n",
    "    raise ValueError(\"value not found in dictionary\")\n",
    "    \n",
    "act0 = dict_key_by_val(env.action_mapping, 0)\n",
    "act0"
   ]
  },
  {
   "cell_type": "code",
   "execution_count": 8,
   "metadata": {},
   "outputs": [],
   "source": [
    "''' Set up the agent and the discretizer.'''\n",
    "from batterydispatch.agent.agents import MonteCarloAgent\n",
    "from batterydispatch.agent.discretizers import Box_Discretizer\n",
    "\n",
    "from batterydispatch.agent.policies import do_nothing\n",
    "agent = MonteCarloAgent()\n",
    "agent.set_policy(do_nothing, {'do_nothing_action': act0})\n",
    "\n",
    "# Note, you can change the size of the state sapce by changing the number of buckets, below\n",
    "agent.set_discretizer(Box_Discretizer(env.observation_space, N=[6, 4, 12, 12]))\n",
    "agent.actions = env.action_space\n",
    "agent.learning_rate = 0.05 # used for the updates of the Q estimates\n",
    "agent.subtype = 'off-policy' # Setup the MC agent for off-policy learning\n",
    "\n",
    "global eps\n",
    "eps=0"
   ]
  },
  {
   "cell_type": "code",
   "execution_count": 9,
   "metadata": {},
   "outputs": [
    {
     "data": {
      "text/plain": [
       "[array([ 4.,  8., 12., 16., 20., 24.]),\n",
       " array([ 2500.25,  5000.5 ,  7500.75, 10001.  ]),\n",
       " array([1575.08333333, 1950.16666667, 2325.25      , 2700.33333333,\n",
       "        3075.41666667, 3450.5       , 3825.58333333, 4200.66666667,\n",
       "        4575.75      , 4950.83333333, 5325.91666667, 5701.        ]),\n",
       " array([1658.41666667, 2116.83333333, 2575.25      , 3033.66666667,\n",
       "        3492.08333333, 3950.5       , 4408.91666667, 4867.33333333,\n",
       "        5325.75      , 5784.16666667, 6242.58333333, 6701.        ])]"
      ]
     },
     "execution_count": 9,
     "metadata": {},
     "output_type": "execute_result"
    }
   ],
   "source": [
    "agent.discretizer.buckets\n"
   ]
  },
  {
   "cell_type": "markdown",
   "metadata": {},
   "source": [
    "## Plot the day of data that we will be trying to learn from"
   ]
  },
  {
   "cell_type": "code",
   "execution_count": 10,
   "metadata": {},
   "outputs": [
    {
     "name": "stderr",
     "output_type": "stream",
     "text": [
      "c:\\users\\administrator\\pycharmprojects\\gym-battery\\gym_battery\\envs\\battery_env.py:160: FutureWarning: set_value is deprecated and will be removed in a future release. Please use .at[] or .iat[] accessors instead\n",
      "  self.grid_flow.set_value(self.step_ix, 'state', tuple(self.state))\n"
     ]
    },
    {
     "name": "stdout",
     "output_type": "stream",
     "text": [
      "2011-03-07\n",
      "96\n",
      "-436363.38749999995\n"
     ]
    },
    {
     "data": {
      "image/png": "[encoded data removed]",
      "text/plain": [
       "<Figure size 432x288 with 1 Axes>"
      ]
     },
     "metadata": {},
     "output_type": "display_data"
    }
   ],
   "source": [
    "\n",
    "done = False\n",
    "state = env.reset()\n",
    "i = 0\n",
    "while not done:\n",
    "    i+=1\n",
    "    _,reward,done, details = env.step(act0)\n",
    "\n",
    "from matplotlib import pyplot as plt\n",
    "plt.plot(env.grid_flow.net_flow)\n",
    "try:\n",
    "    print(list(env.grid_flow.start_date)[0])\n",
    "except:\n",
    "    pass\n",
    "print(i)\n",
    "print(reward)\n",
    "default_reward = reward\n",
    "plt.show()\n"
   ]
  },
  {
   "cell_type": "code",
   "execution_count": 11,
   "metadata": {},
   "outputs": [],
   "source": [
    "# We then initialize the agent state-action estimates, based on the original billing period.\n",
    "# We also give the do_nothing action a small bonus of 100, in order to prevent the agent from arbitrarily taking action.\n",
    "agent.initialize_state_actions(new_default=default_reward,\n",
    "                              do_nothing_action = act0,\n",
    "                              do_nothing_bonus = 100)"
   ]
  },
  {
   "cell_type": "code",
   "execution_count": 12,
   "metadata": {},
   "outputs": [
    {
     "data": {
      "text/plain": [
       "{'do_nothing_action': 2}"
      ]
     },
     "execution_count": 12,
     "metadata": {},
     "output_type": "execute_result"
    }
   ],
   "source": [
    "agent.policy_args"
   ]
  },
  {
   "cell_type": "markdown",
   "metadata": {},
   "source": [
    "## Set up the function to run the episodes, and run episodes until convergence."
   ]
  },
  {
   "cell_type": "code",
   "execution_count": 13,
   "metadata": {},
   "outputs": [],
   "source": [
    "from batterydispatch.agent.functions import log_history, run_episode"
   ]
  },
  {
   "cell_type": "code",
   "execution_count": 17,
   "metadata": {},
   "outputs": [
    {
     "data": {
      "text/plain": [
       "'MonteCarloAgent'"
      ]
     },
     "execution_count": 17,
     "metadata": {},
     "output_type": "execute_result"
    }
   ],
   "source": [
    "# We then set the final parameters guiding the episodes: The agents proclivity for random actions, \n",
    "# the number of episodes without a policy change before we can say we've converge.\n",
    "agent.set_greedy_policy(eta=0.125)\n",
    "agent.patience = 10000\n",
    "agent.name"
   ]
  },
  {
   "cell_type": "code",
   "execution_count": 18,
   "metadata": {},
   "outputs": [],
   "source": [
    "agent.learning_rate = 0.075\n",
    "\n"
   ]
  },
  {
   "cell_type": "code",
   "execution_count": null,
   "metadata": {},
   "outputs": [
    {
     "name": "stdout",
     "output_type": "stream",
     "text": [
      "Run of a Monte Carlo Off Policy agent on Day 1 with 5 seeds, run for 10,000 episodes: Seed 0\n",
      "1 | "
     ]
    },
    {
     "name": "stderr",
     "output_type": "stream",
     "text": [
      "c:\\users\\administrator\\pycharmprojects\\gym-battery\\gym_battery\\envs\\battery_env.py:160: FutureWarning: set_value is deprecated and will be removed in a future release. Please use .at[] or .iat[] accessors instead\n",
      "  self.grid_flow.set_value(self.step_ix, 'state', tuple(self.state))\n"
     ]
    },
    {
     "name": "stdout",
     "output_type": "stream",
     "text": [
      "breaking. Action 2 not greedy at state (24.0, 2500.25, 5700.999999999999, 6701.000000000001) given reward -452801.6875, S_A_values of {0: -436363.38749999995, 1: -436363.38749999995, 2: -452801.6875, 3: -436363.38749999995, 4: -436363.38749999995}\n",
      "Current reward of -452801 / -436363, 6400.0 / 5700.0, patience=1\n",
      "2 | breaking. Action 2 not greedy at state (24.0, 2500.25, 5700.999999999999, 5784.166666666668) given reward -439420.12499999994, S_A_values of {0: -436363.38749999995, 1: -436363.38749999995, 2: -439420.12499999994, 3: -436363.38749999995, 4: -436363.38749999995}\n",
      "Current reward of -439420 / -436363, 5700.0 / 5700.0, patience=1\n",
      "3 | breaking. Action 0 not greedy at state (24.0, 2500.25, 5700.999999999999, 6701.000000000001) given reward -461557.75, S_A_values of {0: -461557.75, 1: -436363.38749999995, 2: -452801.6875, 3: -436363.38749999995, 4: -436363.38749999995}\n",
      "Current reward of -461557 / -436363, 6700.0 / 5700.0, patience=1\n",
      "4 | breaking. Action 1 not greedy at state (24.0, 2500.25, 5700.999999999999, 6701.000000000001) given reward -458058.02499999997, S_A_values of {0: -461557.75, 1: -458058.02499999997, 2: -452801.6875, 3: -436363.38749999995, 4: -436363.38749999995}\n",
      "Current reward of -458058 / -436363, 6700.0 / 5700.0, patience=1\n",
      "5 | breaking. Action 3 not greedy at state (24.0, 2500.25, 5700.999999999999, 6701.000000000001) given reward -458606.3374999999, S_A_values of {0: -461557.75, 1: -458058.02499999997, 2: -452801.6875, 3: -458606.3374999999, 4: -436363.38749999995}\n",
      "Current reward of -458606 / -436363, 6700.0 / 5700.0, patience=1\n",
      "6 | breaking. Action 4 not greedy at state (24.0, 2500.25, 5700.999999999999, 6701.000000000001) given reward -457172.14999999997, S_A_values of {0: -461557.75, 1: -458058.02499999997, 2: -452801.6875, 3: -458606.3374999999, 4: -457172.14999999997}\n",
      "Current reward of -457172 / -436363, 6700.0 / 5700.0, patience=1\n",
      "7 | breaking. Action 2 not greedy at state (24.0, 2500.25, 5700.999999999999, 6242.583333333335) given reward -444421.32499999995, S_A_values of {0: -436363.38749999995, 1: -436363.38749999995, 2: -444421.32499999995, 3: -436363.38749999995, 4: -436363.38749999995}\n",
      "Current reward of -444421 / -436363, 5900.0 / 5700.0, patience=1\n",
      "8 | breaking. Action 2 not greedy at state (24.0, 2500.25, 5325.916666666666, 6701.000000000001) given reward -458816.68749999994, S_A_values of {0: -436363.38749999995, 1: -436363.38749999995, 2: -458816.68749999994, 3: -436363.38749999995, 4: -436363.38749999995}\n",
      "Current reward of -458816 / -436363, 6700.0 / 5700.0, patience=1\n",
      "9 | breaking. Action 0 not greedy at state (24.0, 2500.25, 5325.916666666666, 6701.000000000001) given reward -458606.23749999993, S_A_values of {0: -458606.23749999993, 1: -436363.38749999995, 2: -458816.68749999994, 3: -436363.38749999995, 4: -436363.38749999995}\n",
      "Current reward of -458606 / -436363, 6700.0 / 5700.0, patience=1\n",
      "10 | breaking. Action 2 not greedy at state (24.0, 2500.25, 5700.999999999999, 6701.000000000001) given reward -460356.1, S_A_values of {0: -461557.75, 1: -458058.02499999997, 2: -457645.178125, 3: -458606.3374999999, 4: -457172.14999999997}\n",
      "Current reward of -460356 / -436363, 6700.0 / 5700.0, patience=1\n",
      "11 | breaking. Action 0 not greedy at state (24.0, 2500.25, 5700.999999999999, 5784.166666666668) given reward -451284.36249999993, S_A_values of {0: -451284.36249999993, 1: -436363.38749999995, 2: -439420.12499999994, 3: -436363.38749999995, 4: -436363.38749999995}\n",
      "Current reward of -451284 / -436363, 6400.0 / 5700.0, patience=1\n",
      "12 | breaking. Action 4 not greedy at state (24.0, 2500.25, 5700.999999999999, 6701.000000000001) given reward -458268.5749999999, S_A_values of {0: -461557.75, 1: -458058.02499999997, 2: -457645.178125, 3: -458606.3374999999, 4: -457720.36249999993}\n",
      "Current reward of -458268 / -436363, 6700.0 / 5700.0, patience=1\n",
      "13 | "
     ]
    }
   ],
   "source": [
    "\n",
    "from IPython.display import clear_output\n",
    "\n",
    "for iteration in range(5):\n",
    "    notes = 'Run of a Monte Carlo Off Policy agent on Day 1 with 5 seeds, run for 10,000 episodes: Seed {}'.format(iteration)\n",
    "\n",
    "    agent.set_greedy_policy(eta=0.1)\n",
    "    starting_learning_rate = 0.075\n",
    "    agent.patience_counter = 0\n",
    "    agent.initialize_state_actions(new_default=default_reward,\n",
    "                              do_nothing_action = act0,\n",
    "                              do_nothing_bonus = 100)    \n",
    "    \n",
    "    agent.set_seed(iteration)\n",
    "    env.set_seed(iteration)\n",
    "    \n",
    "    i=30\n",
    "\n",
    "    eps=0\n",
    "    history = []\n",
    "    while eps < 10001:\n",
    "        i+=1\n",
    "        eps+= 1\n",
    "\n",
    "        if i>30:\n",
    "            i=0\n",
    "            clear_output()\n",
    "            print(notes)\n",
    "        print(eps, end=\" | \")\n",
    "        run_episode.run_episodes(env, agent, eps, history, default_reward, random_charge = False, run_type=\"once\")\n",
    "        agent.learning_rate = starting_learning_rate * np.exp(-0.0002*eps)\n",
    "    \n",
    "    agent.set_greedy_policy(eta=0)\n",
    "    reward = run_episode.run_episodes(env, agent, eps, history, default_reward, random_charge=False, run_type='once')\n",
    "    \n",
    "    log_history.save_results(env, agent, history, reward, scenario = notes, agent_name=agent.name, notes='Iteration {}'.format(iteration))\n",
    "    \n",
    "    "
   ]
  },
  {
   "cell_type": "code",
   "execution_count": 18,
   "metadata": {},
   "outputs": [
    {
     "name": "stderr",
     "output_type": "stream",
     "text": [
      "c:\\users\\administrator\\pycharmprojects\\gym-battery\\gym_battery\\envs\\battery_env.py:160: FutureWarning: set_value is deprecated and will be removed in a future release. Please use .at[] or .iat[] accessors instead\n",
      "  self.grid_flow.set_value(self.step_ix, 'state', tuple(self.state))\n"
     ]
    },
    {
     "name": "stdout",
     "output_type": "stream",
     "text": [
      "Current reward of -431317 / -436363, 5400.0 / 5700.0, patience=1\n"
     ]
    },
    {
     "data": {
      "text/plain": [
       "-431317.5999999999"
      ]
     },
     "execution_count": 18,
     "metadata": {},
     "output_type": "execute_result"
    }
   ],
   "source": [
    "reward = run_episode.run_episodes(env, agent, eps, history, default_reward, random_charge=False, run_type='once')\n",
    "reward"
   ]
  },
  {
   "cell_type": "code",
   "execution_count": null,
   "metadata": {},
   "outputs": [],
   "source": [
    "log_history.save_results(env, agent, history, reward, scenario = notes, agent_name=agent.name, notes='Iteration {}'.format(iteration))\n"
   ]
  },
  {
   "cell_type": "code",
   "execution_count": 24,
   "metadata": {},
   "outputs": [
    {
     "data": {
      "image/png": "[encoded data removed]",
      "text/plain": [
       "<Figure size 432x288 with 1 Axes>"
      ]
     },
     "metadata": {},
     "output_type": "display_data"
    }
   ],
   "source": [
    "from matplotlib import pyplot as plt\n",
    "plt.plot(np.exp(-0.0002*np.arange(0,10000))*0.075)\n",
    "plt.show()"
   ]
  },
  {
   "cell_type": "code",
   "execution_count": null,
   "metadata": {},
   "outputs": [],
   "source": [
    "agent.history"
   ]
  },
  {
   "cell_type": "code",
   "execution_count": null,
   "metadata": {},
   "outputs": [],
   "source": [
    "Qs = pd.DataFrame.from_dict(agent.S_A_values, orient='index')\n",
    "Qs.to_clipboard()"
   ]
  },
  {
   "cell_type": "code",
   "execution_count": null,
   "metadata": {},
   "outputs": [],
   "source": [
    "counts = pd.DataFrame.from_dict(agent.S_A_frequency, orient='index')\n",
    "counts.to_clipboard\n"
   ]
  },
  {
   "cell_type": "code",
   "execution_count": null,
   "metadata": {},
   "outputs": [],
   "source": [
    "print(f\"The agent converged after {eps} episodes\")"
   ]
  },
  {
   "cell_type": "markdown",
   "metadata": {},
   "source": [
    "Agent has taken between 10 and 30 minutes, and between 700 and 2262 episodes, to converge on day 1. Optimal policy:\n",
    "Current reward of -397414.125 / -406791.825, 5600.0 / 6000.0, patience=21\n",
    "\n",
    "For 2 days, agent took 5 hours 8 minutes, and converged after 21200 episodes."
   ]
  },
  {
   "cell_type": "markdown",
   "metadata": {},
   "source": [
    "## Then we allow the agent to take entirely greedy actions and run the algorithm to see how much the agent learned. "
   ]
  },
  {
   "cell_type": "code",
   "execution_count": null,
   "metadata": {},
   "outputs": [],
   "source": [
    "agent.set_greedy_policy(eta=0)\n",
    "    \n",
    "state = env.reset(random_charge=False)\n",
    "done = False\n",
    "while not done:\n",
    "    action = agent.get_action(state, list(env.action_mapping.keys()), 0.25)\n",
    "    #print(state)\n",
    "    #action = int(input(\"action:\"))\n",
    "\n",
    "    #print(action)\n",
    "    state, reward, done, details = env.step(action)\n",
    "\n",
    "try:\n",
    "    new_demand = max(env.grid_flow.net_flow)\n",
    "    orig_demand = max(env.grid_flow.load)\n",
    "except AttributeError:\n",
    "    new_demand = \"???\"\n",
    "    orig_demand = \"???\"\n",
    "    \n",
    "    env.grid_flow['final_reward'] = reward\n",
    "    env.grid_flow['original_reward'] = default_reward\n",
    "\n",
    "\n",
    "print(f\"Current reward of {reward} / {default_reward}, {new_demand} / {orig_demand}, patience={agent.patience_counter}\")\n",
    "\n",
    "\n"
   ]
  },
  {
   "cell_type": "code",
   "execution_count": null,
   "metadata": {},
   "outputs": [],
   "source": []
  },
  {
   "cell_type": "code",
   "execution_count": null,
   "metadata": {},
   "outputs": [],
   "source": [
    "DF = save_results(scenario='Day1_load', agent_name='DynaQ', notes=\"ran the DynaQ agent again on the Day1 data, for a second (same agent)\")"
   ]
  },
  {
   "cell_type": "code",
   "execution_count": null,
   "metadata": {},
   "outputs": [],
   "source": [
    "pd.to_datetime(DF.saved_timestamp)"
   ]
  },
  {
   "cell_type": "code",
   "execution_count": null,
   "metadata": {},
   "outputs": [],
   "source": [
    "sum(DF.index.duplicated())"
   ]
  },
  {
   "cell_type": "code",
   "execution_count": null,
   "metadata": {},
   "outputs": [],
   "source": []
  }
 ],
 "metadata": {
  "kernelspec": {
   "display_name": "Python 3",
   "language": "python",
   "name": "python3"
  },
  "language_info": {
   "codemirror_mode": {
    "name": "ipython",
    "version": 3
   },
   "file_extension": ".py",
   "mimetype": "text/x-python",
   "name": "python",
   "nbconvert_exporter": "python",
   "pygments_lexer": "ipython3",
   "version": "3.6.5"
  }
 },
 "nbformat": 4,
 "nbformat_minor": 2
}
