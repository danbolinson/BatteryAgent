{
 "cells": [
  {
   "cell_type": "markdown",
   "metadata": {},
   "source": [
    "## Python Notebook to interact with gym-battery and battery-agent\n",
    "\n",
    "This python notebook is a working document to interact with and test the environment and the agent.\n",
    "\n",
    "Note: In order for this to work, gym-battery needs to be installed as a package, using pip install -e gym-battery from wherever gym-battery exists.\n",
    "\n",
    "The ipython notebook should exist in battery dispatch by default and should be ableto access those resources so it does not necessarily need to be build/installed using pip."
   ]
  },
  {
   "cell_type": "code",
   "execution_count": null,
   "metadata": {},
   "outputs": [],
   "source": [
    "import gym\n",
    "import gym_battery \n",
    "import numpy as np"
   ]
  },
  {
   "cell_type": "code",
   "execution_count": null,
   "metadata": {},
   "outputs": [],
   "source": [
    "env = gym.make('gym_battery:battery-v0', **{'N_actions': 7})"
   ]
  },
  {
   "cell_type": "code",
   "execution_count": 3,
   "metadata": {},
   "outputs": [
    {
     "name": "stdout",
     "output_type": "stream",
     "text": [
      "setting the standard system, A10S Med busines large usage with a 2,000kW/10,000kWh battery\n"
     ]
    }
   ],
   "source": [
    "env.set_standard_system()"
   ]
  },
  {
   "cell_type": "code",
   "execution_count": 4,
   "metadata": {},
   "outputs": [
    {
     "data": {
      "text/plain": [
       "{0: -1000.0,\n",
       " 1: -666.6666666666666,\n",
       " 2: -333.3333333333333,\n",
       " 3: 0.0,\n",
       " 4: 333.3333333333333,\n",
       " 5: 666.6666666666666,\n",
       " 6: 1000.0}"
      ]
     },
     "execution_count": 4,
     "metadata": {},
     "output_type": "execute_result"
    }
   ],
   "source": [
    "# Show the possible action mapping the agent can take\n",
    "env.action_mapping"
   ]
  },
  {
   "cell_type": "code",
   "execution_count": 5,
   "metadata": {},
   "outputs": [],
   "source": [
    "# Set how to structure the environment. 'count_days' will generate the a single day as an episode. THe number of days\n",
    "# given indicates how many differnet days to use.\n",
    "# This needs to be changed so that it generates LONGER episodes, not DIFFERENT episodes, but this hasn't been done yet.\n",
    "env.episode_type = 'count_days'\n",
    "env.run_N_episodes = 1\n"
   ]
  },
  {
   "cell_type": "code",
   "execution_count": 6,
   "metadata": {},
   "outputs": [
    {
     "data": {
      "text/plain": [
       "3"
      ]
     },
     "execution_count": 6,
     "metadata": {},
     "output_type": "execute_result"
    }
   ],
   "source": [
    "# Get the do-nothing value for taking no action\n",
    "def dict_key_by_val(d, val):\n",
    "    for k in d.keys():\n",
    "        if d[k] == val:\n",
    "            return k\n",
    "    raise ValueError(\"value not found in dictionary\")\n",
    "    \n",
    "act0 = dict_key_by_val(env.action_mapping, 0)\n",
    "act0"
   ]
  },
  {
   "cell_type": "code",
   "execution_count": 7,
   "metadata": {},
   "outputs": [],
   "source": [
    "''' Set up the agent and the discretizer.'''\n",
    "from batterydispatch.agent.agents import MonteCarloAgent\n",
    "from batterydispatch.agent.discretizers import Box_Discretizer\n",
    "\n",
    "from batterydispatch.agent.policies import do_nothing\n",
    "agent = MonteCarloAgent()\n",
    "agent.set_policy(do_nothing, {'do_nothing_action': act0})\n",
    "\n",
    "# Note, you can change the size of the state sapce by changing the number of buckets, below\n",
    "agent.set_discretizer(Box_Discretizer(env.observation_space, N=[6, 4, 25, 25]))\n",
    "agent.learning_rate = 0.05 # used for the updates of the Q estimates\n",
    "agent.subtype = 'off-policy' # Setup the MC agent for off-policy learning"
   ]
  },
  {
   "cell_type": "code",
   "execution_count": 8,
   "metadata": {},
   "outputs": [
    {
     "data": {
      "text/plain": [
       "[array([ 0.,  4.,  8., 12., 16., 20.]),\n",
       " array([   0., 2500., 5000., 7500.]),\n",
       " array([  300.,   936.,  1572.,  2208.,  2844.,  3480.,  4116.,  4752.,\n",
       "         5388.,  6024.,  6660.,  7296.,  7932.,  8568.,  9204.,  9840.,\n",
       "        10476., 11112., 11748., 12384., 13020., 13656., 14292., 14928.,\n",
       "        15564.]),\n",
       " array([  300.,   976.,  1652.,  2328.,  3004.,  3680.,  4356.,  5032.,\n",
       "         5708.,  6384.,  7060.,  7736.,  8412.,  9088.,  9764., 10440.,\n",
       "        11116., 11792., 12468., 13144., 13820., 14496., 15172., 15848.,\n",
       "        16524.])]"
      ]
     },
     "execution_count": 8,
     "metadata": {},
     "output_type": "execute_result"
    }
   ],
   "source": [
    "agent.discretizer.buckets\n"
   ]
  },
  {
   "cell_type": "markdown",
   "metadata": {},
   "source": [
    "## Plot the day of data that we will be trying to learn from"
   ]
  },
  {
   "cell_type": "code",
   "execution_count": 9,
   "metadata": {},
   "outputs": [
    {
     "name": "stdout",
     "output_type": "stream",
     "text": [
      "2011-03-06\n",
      "76\n",
      "-410081.10000000003\n"
     ]
    },
    {
     "data": {
      "image/png": "[encoded data removed]",
      "text/plain": [
       "<Figure size 432x288 with 1 Axes>"
      ]
     },
     "metadata": {},
     "output_type": "display_data"
    }
   ],
   "source": [
    "\n",
    "done = False\n",
    "state = env.reset()\n",
    "i = 0\n",
    "while not done:\n",
    "    i+=1\n",
    "    action = agent.get_action(state, env.action_space, 0)\n",
    "    _,reward,done, details = env.step(action)\n",
    "\n",
    "from matplotlib import pyplot as plt\n",
    "plt.plot(env.grid_flow.net_flow)\n",
    "try:\n",
    "    print(list(env.grid_flow.start_date)[0])\n",
    "except:\n",
    "    pass\n",
    "print(i)\n",
    "print(reward)\n",
    "default_reward = reward\n",
    "plt.show()\n"
   ]
  },
  {
   "cell_type": "markdown",
   "metadata": {},
   "source": [
    "## Shrink the state space for testing purposes.\n",
    "\n",
    "In the following section, for testing, we redefine the state space so that it is more relevant to the specific day being modeled, and significantly reduce the size of the state space to try and improve learning."
   ]
  },
  {
   "cell_type": "code",
   "execution_count": 10,
   "metadata": {},
   "outputs": [],
   "source": [
    "from gym.spaces import Box\n",
    "import numpy as np\n",
    "\n",
    "state_size = [4, 3, 6, 8]\n",
    "\n",
    "env.observation_space = Box(np.array([0, 0, 3000, 1000]),np.array([24, env.bus.battery.capacity, 7000, 6500]))\n",
    "agent.set_discretizer(Box_Discretizer(env.observation_space, N=state_size))\n",
    "agent.actions = env.action_space\n",
    "agent.initialize_state_actions(default=default_reward,\n",
    "                              do_nothing_action = act0,\n",
    "                              do_nothing_bonus = 100)\n"
   ]
  },
  {
   "cell_type": "code",
   "execution_count": 11,
   "metadata": {},
   "outputs": [
    {
     "name": "stdout",
     "output_type": "stream",
     "text": [
      "Total number of states: 576\n"
     ]
    },
    {
     "data": {
      "text/plain": [
       "[array([ 0.,  6., 12., 18.]),\n",
       " array([   0.        , 3333.33333333, 6666.66666667]),\n",
       " array([3000.        , 3666.66666667, 4333.33333333, 5000.        ,\n",
       "        5666.66666667, 6333.33333333]),\n",
       " array([1000. , 1687.5, 2375. , 3062.5, 3750. , 4437.5, 5125. , 5812.5])]"
      ]
     },
     "execution_count": 11,
     "metadata": {},
     "output_type": "execute_result"
    }
   ],
   "source": [
    "def multiply_all(l):\n",
    "    total = 1\n",
    "    for i in l:\n",
    "        total *= i\n",
    "    return total\n",
    "\n",
    "print(\"Total number of states: {}\".format(multiply_all(state_size)))\n",
    "agent.discretizer.buckets"
   ]
  },
  {
   "cell_type": "code",
   "execution_count": 12,
   "metadata": {},
   "outputs": [],
   "source": [
    "# We then initialize the agent state-action estimates, based on the original billing period.\n",
    "# We also give the do_nothing action a small bonus of 100, in order to prevent the agent from arbitrarily taking action.\n",
    "agent.initialize_state_actions(default=default_reward,\n",
    "                              do_nothing_action = act0,\n",
    "                              do_nothing_bonus = 100)"
   ]
  },
  {
   "cell_type": "markdown",
   "metadata": {},
   "source": [
    "## Set up the function to run the episodes, and run episodes until convergence."
   ]
  },
  {
   "cell_type": "code",
   "execution_count": 13,
   "metadata": {},
   "outputs": [],
   "source": [
    "# This function runs the actual episodes, repeatedly, until policy converges.\n",
    "\n",
    "from IPython.display import clear_output\n",
    "# initial state\n",
    "from batterydispatch.agent.agents import PolicyConvergedError\n",
    "def run_to_convergence(random_charge = True):\n",
    "    possible_actions = list(env.action_mapping.keys())\n",
    "    converged=False\n",
    "    done=False\n",
    "    i = 0\n",
    "    eps = 0\n",
    "    while not converged:\n",
    "        state = env.reset(random_charge=random_charge)\n",
    "\n",
    "        i += 1\n",
    "        eps+=1\n",
    "        if i > 50:\n",
    "            i = 0\n",
    "            clear_output()\n",
    "\n",
    "        while not done:\n",
    "            action = agent.get_action(state, possible_actions, 0.25)\n",
    "            #print(action)\n",
    "            old_state = state.copy()\n",
    "            state, reward, done, details = env.step(action)\n",
    "            \n",
    "            #agent.observe_sars(old_state, action, reward, state)\n",
    "        try:\n",
    "            agent.end_episode(reward)\n",
    "        except PolicyConvergedError:\n",
    "            converged = True\n",
    "\n",
    "        try:\n",
    "            new_demand = max(env.grid_flow.net_flow)\n",
    "            orig_demand = max(env.grid_flow.load)\n",
    "        except AttributeError:\n",
    "            new_demand = \"???\"\n",
    "            orig_demand = \"???\"\n",
    "\n",
    "        done = False\n",
    "\n",
    "\n",
    "        print(f\"Current reward of {int(reward)} / {int(default_reward)}, {new_demand} / {orig_demand}, patience={agent.patience_counter}\")\n",
    "        #converged = agent.check_policy_convergence(False)\n",
    "    print(\"Converged!\")\n",
    "    return eps"
   ]
  },
  {
   "cell_type": "code",
   "execution_count": 14,
   "metadata": {},
   "outputs": [],
   "source": [
    "# We then set the final parameters guiding the episodes: The agents proclivity for random actions, \n",
    "# the number of episodes without a policy change before we can say we've converge.\n",
    "agent.set_greedy_policy(eta=0.2)\n",
    "agent.patience = 100\n"
   ]
  },
  {
   "cell_type": "code",
   "execution_count": 15,
   "metadata": {},
   "outputs": [
    {
     "name": "stdout",
     "output_type": "stream",
     "text": [
      "Current reward of -401012 / -410081, 5500.0 / 6000.0, patience=58\n",
      "Current reward of -425873 / -410081, 6700.0 / 6000.0, patience=59\n",
      "Current reward of -417573 / -410081, 6366.666666666667 / 6000.0, patience=60\n",
      "Current reward of -419274 / -410081, 6366.666666666667 / 6000.0, patience=61\n",
      "Current reward of -405192 / -410081, 5766.666666666667 / 6000.0, patience=62\n",
      "Current reward of -425640 / -410081, 6666.666666666667 / 6000.0, patience=63\n",
      "Current reward of -416694 / -410081, 6333.333333333333 / 6000.0, patience=64\n",
      "Current reward of -427468 / -410081, 6666.666666666667 / 6000.0, patience=65\n",
      "Current reward of -417635 / -410081, 6333.333333333333 / 6000.0, patience=66\n",
      "Current reward of -427209 / -410081, 6700.0 / 6000.0, patience=67\n",
      "Current reward of -409940 / -410081, 6000.0 / 6000.0, patience=68\n",
      "Current reward of -411417 / -410081, 6066.666666666667 / 6000.0, patience=69\n",
      "Current reward of -410091 / -410081, 5800.0 / 6000.0, patience=70\n",
      "Current reward of -398416 / -410081, 5400.0 / 6000.0, patience=71\n",
      "Current reward of -412576 / -410081, 6033.333333333333 / 6000.0, patience=72\n",
      "Current reward of -410081 / -410081, 6000.0 / 6000.0, patience=73\n",
      "Current reward of -398782 / -410081, 5400.0 / 6000.0, patience=74\n",
      "Current reward of -405760 / -410081, 5733.333333333333 / 6000.0, patience=75\n",
      "Current reward of -406802 / -410081, 5800.0 / 6000.0, patience=76\n",
      "Current reward of -399062 / -410081, 5400.0 / 6000.0, patience=77\n",
      "Current reward of -425733 / -410081, 6700.0 / 6000.0, patience=78\n",
      "Current reward of -400919 / -410081, 5466.666666666667 / 6000.0, patience=79\n",
      "Current reward of -403855 / -410081, 5700.0 / 6000.0, patience=80\n",
      "Current reward of -403645 / -410081, 5700.0 / 6000.0, patience=81\n",
      "Current reward of -399738 / -410081, 5400.0 / 6000.0, patience=82\n",
      "Current reward of -403715 / -410081, 5700.0 / 6000.0, patience=83\n",
      "Current reward of -425865 / -410081, 6666.666666666667 / 6000.0, patience=84\n",
      "Current reward of -404066 / -410081, 5700.0 / 6000.0, patience=85\n",
      "Current reward of -412296 / -410081, 6100.0 / 6000.0, patience=86\n",
      "Current reward of -406366 / -410081, 5800.0 / 6000.0, patience=87\n",
      "Current reward of -408994 / -410081, 5800.0 / 6000.0, patience=88\n",
      "Current reward of -403918 / -410081, 5666.666666666667 / 6000.0, patience=89\n",
      "Current reward of -427770 / -410081, 6700.0 / 6000.0, patience=90\n",
      "Current reward of -404276 / -410081, 5699.999999999998 / 6000.0, patience=91\n",
      "Current reward of -425072 / -410081, 6700.0 / 6000.0, patience=92\n",
      "Current reward of -411417 / -410081, 6066.666666666667 / 6000.0, patience=93\n",
      "Current reward of -397981 / -410081, 5400.0 / 6000.0, patience=94\n",
      "Current reward of -419640 / -410081, 6366.666666666667 / 6000.0, patience=95\n",
      "Current reward of -424573 / -410081, 6666.666666666667 / 6000.0, patience=96\n",
      "Current reward of -400399 / -410081, 5400.0 / 6000.0, patience=97\n",
      "Current reward of -426534 / -410081, 6700.0 / 6000.0, patience=98\n",
      "Current reward of -410812 / -410081, 6000.0 / 6000.0, patience=99\n",
      "Current reward of -412436 / -410081, 6100.0 / 6000.0, patience=100\n",
      "Current reward of -408363 / -410081, 5800.0 / 6000.0, patience=101\n",
      "Converged!\n",
      "Wall time: 51min 38s\n"
     ]
    }
   ],
   "source": [
    "%%time\n",
    "agent.patience_counter = 0\n",
    "\n",
    "eps = run_to_convergence(random_charge = False)\n",
    "eps"
   ]
  },
  {
   "cell_type": "code",
   "execution_count": 16,
   "metadata": {},
   "outputs": [
    {
     "name": "stdout",
     "output_type": "stream",
     "text": [
      "The agent converged after 5092 episodes\n"
     ]
    }
   ],
   "source": [
    "print(f\"The agent converged after {eps} episodes\")"
   ]
  },
  {
   "cell_type": "markdown",
   "metadata": {},
   "source": [
    "Agent has taken between 10 and 30 minutes, and between 700 and 2262 episodes, to converge on day 1. Optimal policy:\n",
    "Current reward of -397414.125 / -406791.825, 5600.0 / 6000.0, patience=21\n",
    "\n",
    "For 2 days, agent took 5 hours 8 minutes, and converged after 21200 episodes."
   ]
  },
  {
   "cell_type": "markdown",
   "metadata": {},
   "source": [
    "## Then we allow the agent to take entirely greedy actions and run the algorithm to see how much the agent learned. "
   ]
  },
  {
   "cell_type": "code",
   "execution_count": null,
   "metadata": {},
   "outputs": [],
   "source": [
    "agent.set_greedy_policy(eta=0)\n",
    "    \n",
    "state = env.reset(random_charge=False)\n",
    "done = False\n",
    "print(state)\n",
    "while not done:\n",
    "    action = agent.get_action(state, list(env.action_mapping.keys()), 0.25)\n",
    "    #print(state)\n",
    "    #action = int(input(\"action:\"))\n",
    "\n",
    "    #print(action)\n",
    "    state, reward, done, details = env.step(action)\n",
    "\n",
    "try:\n",
    "    new_demand = max(env.grid_flow.net_flow)\n",
    "    orig_demand = max(env.grid_flow.load)\n",
    "except AttributeError:\n",
    "    new_demand = \"???\"\n",
    "    orig_demand = \"???\"\n",
    "    \n",
    "    env.grid_flow['final_reward'] = reward\n",
    "    env.grid_flow['original_reward'] = default_reward\n",
    "\n",
    "\n",
    "print(f\"Current reward of {reward} / {default_reward}, {new_demand} / {orig_demand}, patience={agent.patience_counter}\")\n",
    "\n",
    "\n"
   ]
  },
  {
   "cell_type": "code",
   "execution_count": null,
   "metadata": {},
   "outputs": [],
   "source": [
    "# If desired we can output the results to the clipboard for further analysis\n",
    "env.grid_flow.to_clipboard()"
   ]
  }
 ],
 "metadata": {
  "kernelspec": {
   "display_name": "Python 3",
   "language": "python",
   "name": "python3"
  },
  "language_info": {
   "codemirror_mode": {
    "name": "ipython",
    "version": 3
   },
   "file_extension": ".py",
   "mimetype": "text/x-python",
   "name": "python",
   "nbconvert_exporter": "python",
   "pygments_lexer": "ipython3",
   "version": "3.6.5"
  }
 },
 "nbformat": 4,
 "nbformat_minor": 2
}
