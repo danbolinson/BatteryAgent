{
 "cells": [
  {
   "cell_type": "markdown",
   "metadata": {},
   "source": [
    "## Python Notebook to interact with gym-battery and battery-agent\n",
    "\n",
    "This python notebook is a working document to interact with and test the environment and the agent.\n",
    "\n",
    "Note: In order for this to work, gym-battery needs to be installed as a package, using pip install -e gym-battery from wherever gym-battery exists.\n",
    "\n",
    "The ipython notebook should exist in battery dispatch by default and should be ableto access those resources so it does not necessarily need to be build/installed using pip."
   ]
  },
  {
   "cell_type": "code",
   "execution_count": 1,
   "metadata": {},
   "outputs": [],
   "source": [
    "import gym\n",
    "import gym_battery \n",
    "import numpy as np\n",
    "import pandas as pd"
   ]
  },
  {
   "cell_type": "code",
   "execution_count": 2,
   "metadata": {},
   "outputs": [
    {
     "name": "stdout",
     "output_type": "stream",
     "text": [
      "setting the standard system, A10S Med busines large usage with a 2,000kW/10,000kWh battery\n"
     ]
    }
   ],
   "source": [
    "env = gym.make('gym_battery:battery-v0', **{'N_actions':5})\n",
    "env.set_standard_system()"
   ]
  },
  {
   "cell_type": "code",
   "execution_count": 3,
   "metadata": {},
   "outputs": [
    {
     "data": {
      "text/plain": [
       "{0: -1000.0, 1: -500.0, 2: 0.0, 3: 500.0, 4: 1000.0}"
      ]
     },
     "execution_count": 3,
     "metadata": {},
     "output_type": "execute_result"
    }
   ],
   "source": [
    "# Show the possible action mapping the agent can take\n",
    "env.action_mapping"
   ]
  },
  {
   "cell_type": "code",
   "execution_count": 4,
   "metadata": {},
   "outputs": [
    {
     "name": "stdout",
     "output_type": "stream",
     "text": [
      "[  0.   0. 300. 300.]\n",
      "to\n",
      "[   24. 10000. 16200. 17200.]\n"
     ]
    }
   ],
   "source": [
    "print(env.observation_space.low)\n",
    "print(\"to\")\n",
    "print(env.observation_space.high)"
   ]
  },
  {
   "cell_type": "code",
   "execution_count": 5,
   "metadata": {},
   "outputs": [],
   "source": [
    "# Set how to structure the environment. 'count_days' will generate the a single day as an episode. THe number of days\n",
    "# given indicates how many differnet days to use.\n",
    "# This needs to be changed so that it generates LONGER episodes, not DIFFERENT episodes, but this hasn't been done yet.\n",
    "env.episode_type = 'count_days'\n",
    "env.run_N_episodes = 1\n",
    "env.load.DF = env.load.DF[76:76*4]\n",
    "env.fit_load_to_space()"
   ]
  },
  {
   "cell_type": "code",
   "execution_count": 6,
   "metadata": {},
   "outputs": [
    {
     "data": {
      "text/html": [
       "<div>\n",
       "<style scoped>\n",
       "    .dataframe tbody tr th:only-of-type {\n",
       "        vertical-align: middle;\n",
       "    }\n",
       "\n",
       "    .dataframe tbody tr th {\n",
       "        vertical-align: top;\n",
       "    }\n",
       "\n",
       "    .dataframe thead th {\n",
       "        text-align: right;\n",
       "    }\n",
       "</style>\n",
       "<table border=\"1\" class=\"dataframe\">\n",
       "  <thead>\n",
       "    <tr style=\"text-align: right;\">\n",
       "      <th></th>\n",
       "      <th>duration</th>\n",
       "      <th>start</th>\n",
       "      <th>value</th>\n",
       "      <th>duration_hrs</th>\n",
       "    </tr>\n",
       "  </thead>\n",
       "  <tbody>\n",
       "    <tr>\n",
       "      <th>76</th>\n",
       "      <td>900</td>\n",
       "      <td>2011-03-07 00:00:00</td>\n",
       "      <td>4500.0</td>\n",
       "      <td>0.25</td>\n",
       "    </tr>\n",
       "    <tr>\n",
       "      <th>77</th>\n",
       "      <td>900</td>\n",
       "      <td>2011-03-07 00:15:00</td>\n",
       "      <td>4500.0</td>\n",
       "      <td>0.25</td>\n",
       "    </tr>\n",
       "    <tr>\n",
       "      <th>78</th>\n",
       "      <td>900</td>\n",
       "      <td>2011-03-07 00:30:00</td>\n",
       "      <td>4800.0</td>\n",
       "      <td>0.25</td>\n",
       "    </tr>\n",
       "    <tr>\n",
       "      <th>79</th>\n",
       "      <td>900</td>\n",
       "      <td>2011-03-07 00:45:00</td>\n",
       "      <td>4500.0</td>\n",
       "      <td>0.25</td>\n",
       "    </tr>\n",
       "    <tr>\n",
       "      <th>80</th>\n",
       "      <td>900</td>\n",
       "      <td>2011-03-07 01:00:00</td>\n",
       "      <td>4500.0</td>\n",
       "      <td>0.25</td>\n",
       "    </tr>\n",
       "    <tr>\n",
       "      <th>81</th>\n",
       "      <td>900</td>\n",
       "      <td>2011-03-07 01:15:00</td>\n",
       "      <td>4800.0</td>\n",
       "      <td>0.25</td>\n",
       "    </tr>\n",
       "    <tr>\n",
       "      <th>82</th>\n",
       "      <td>900</td>\n",
       "      <td>2011-03-07 01:30:00</td>\n",
       "      <td>4500.0</td>\n",
       "      <td>0.25</td>\n",
       "    </tr>\n",
       "    <tr>\n",
       "      <th>83</th>\n",
       "      <td>900</td>\n",
       "      <td>2011-03-07 01:45:00</td>\n",
       "      <td>4200.0</td>\n",
       "      <td>0.25</td>\n",
       "    </tr>\n",
       "    <tr>\n",
       "      <th>84</th>\n",
       "      <td>900</td>\n",
       "      <td>2011-03-07 02:00:00</td>\n",
       "      <td>4200.0</td>\n",
       "      <td>0.25</td>\n",
       "    </tr>\n",
       "    <tr>\n",
       "      <th>85</th>\n",
       "      <td>900</td>\n",
       "      <td>2011-03-07 02:15:00</td>\n",
       "      <td>4200.0</td>\n",
       "      <td>0.25</td>\n",
       "    </tr>\n",
       "    <tr>\n",
       "      <th>86</th>\n",
       "      <td>900</td>\n",
       "      <td>2011-03-07 02:30:00</td>\n",
       "      <td>4500.0</td>\n",
       "      <td>0.25</td>\n",
       "    </tr>\n",
       "    <tr>\n",
       "      <th>87</th>\n",
       "      <td>900</td>\n",
       "      <td>2011-03-07 02:45:00</td>\n",
       "      <td>4200.0</td>\n",
       "      <td>0.25</td>\n",
       "    </tr>\n",
       "    <tr>\n",
       "      <th>88</th>\n",
       "      <td>900</td>\n",
       "      <td>2011-03-07 03:00:00</td>\n",
       "      <td>4200.0</td>\n",
       "      <td>0.25</td>\n",
       "    </tr>\n",
       "    <tr>\n",
       "      <th>89</th>\n",
       "      <td>900</td>\n",
       "      <td>2011-03-07 03:15:00</td>\n",
       "      <td>3900.0</td>\n",
       "      <td>0.25</td>\n",
       "    </tr>\n",
       "    <tr>\n",
       "      <th>90</th>\n",
       "      <td>900</td>\n",
       "      <td>2011-03-07 03:30:00</td>\n",
       "      <td>4200.0</td>\n",
       "      <td>0.25</td>\n",
       "    </tr>\n",
       "    <tr>\n",
       "      <th>91</th>\n",
       "      <td>900</td>\n",
       "      <td>2011-03-07 03:45:00</td>\n",
       "      <td>3600.0</td>\n",
       "      <td>0.25</td>\n",
       "    </tr>\n",
       "    <tr>\n",
       "      <th>92</th>\n",
       "      <td>900</td>\n",
       "      <td>2011-03-07 04:00:00</td>\n",
       "      <td>3000.0</td>\n",
       "      <td>0.25</td>\n",
       "    </tr>\n",
       "    <tr>\n",
       "      <th>93</th>\n",
       "      <td>900</td>\n",
       "      <td>2011-03-07 04:15:00</td>\n",
       "      <td>2700.0</td>\n",
       "      <td>0.25</td>\n",
       "    </tr>\n",
       "    <tr>\n",
       "      <th>94</th>\n",
       "      <td>900</td>\n",
       "      <td>2011-03-07 04:30:00</td>\n",
       "      <td>2400.0</td>\n",
       "      <td>0.25</td>\n",
       "    </tr>\n",
       "    <tr>\n",
       "      <th>95</th>\n",
       "      <td>900</td>\n",
       "      <td>2011-03-07 04:45:00</td>\n",
       "      <td>2700.0</td>\n",
       "      <td>0.25</td>\n",
       "    </tr>\n",
       "    <tr>\n",
       "      <th>96</th>\n",
       "      <td>900</td>\n",
       "      <td>2011-03-07 05:00:00</td>\n",
       "      <td>2700.0</td>\n",
       "      <td>0.25</td>\n",
       "    </tr>\n",
       "    <tr>\n",
       "      <th>97</th>\n",
       "      <td>900</td>\n",
       "      <td>2011-03-07 05:15:00</td>\n",
       "      <td>2400.0</td>\n",
       "      <td>0.25</td>\n",
       "    </tr>\n",
       "    <tr>\n",
       "      <th>98</th>\n",
       "      <td>900</td>\n",
       "      <td>2011-03-07 05:30:00</td>\n",
       "      <td>2400.0</td>\n",
       "      <td>0.25</td>\n",
       "    </tr>\n",
       "    <tr>\n",
       "      <th>99</th>\n",
       "      <td>900</td>\n",
       "      <td>2011-03-07 05:45:00</td>\n",
       "      <td>2700.0</td>\n",
       "      <td>0.25</td>\n",
       "    </tr>\n",
       "    <tr>\n",
       "      <th>100</th>\n",
       "      <td>900</td>\n",
       "      <td>2011-03-07 06:00:00</td>\n",
       "      <td>2400.0</td>\n",
       "      <td>0.25</td>\n",
       "    </tr>\n",
       "    <tr>\n",
       "      <th>101</th>\n",
       "      <td>900</td>\n",
       "      <td>2011-03-07 06:15:00</td>\n",
       "      <td>2400.0</td>\n",
       "      <td>0.25</td>\n",
       "    </tr>\n",
       "    <tr>\n",
       "      <th>102</th>\n",
       "      <td>900</td>\n",
       "      <td>2011-03-07 06:30:00</td>\n",
       "      <td>2400.0</td>\n",
       "      <td>0.25</td>\n",
       "    </tr>\n",
       "    <tr>\n",
       "      <th>103</th>\n",
       "      <td>900</td>\n",
       "      <td>2011-03-07 06:45:00</td>\n",
       "      <td>2400.0</td>\n",
       "      <td>0.25</td>\n",
       "    </tr>\n",
       "    <tr>\n",
       "      <th>104</th>\n",
       "      <td>900</td>\n",
       "      <td>2011-03-07 07:00:00</td>\n",
       "      <td>2400.0</td>\n",
       "      <td>0.25</td>\n",
       "    </tr>\n",
       "    <tr>\n",
       "      <th>105</th>\n",
       "      <td>900</td>\n",
       "      <td>2011-03-07 07:15:00</td>\n",
       "      <td>2700.0</td>\n",
       "      <td>0.25</td>\n",
       "    </tr>\n",
       "    <tr>\n",
       "      <th>...</th>\n",
       "      <td>...</td>\n",
       "      <td>...</td>\n",
       "      <td>...</td>\n",
       "      <td>...</td>\n",
       "    </tr>\n",
       "    <tr>\n",
       "      <th>274</th>\n",
       "      <td>900</td>\n",
       "      <td>2011-03-09 01:30:00</td>\n",
       "      <td>2700.0</td>\n",
       "      <td>0.25</td>\n",
       "    </tr>\n",
       "    <tr>\n",
       "      <th>275</th>\n",
       "      <td>900</td>\n",
       "      <td>2011-03-09 01:45:00</td>\n",
       "      <td>3000.0</td>\n",
       "      <td>0.25</td>\n",
       "    </tr>\n",
       "    <tr>\n",
       "      <th>276</th>\n",
       "      <td>900</td>\n",
       "      <td>2011-03-09 02:00:00</td>\n",
       "      <td>2700.0</td>\n",
       "      <td>0.25</td>\n",
       "    </tr>\n",
       "    <tr>\n",
       "      <th>277</th>\n",
       "      <td>900</td>\n",
       "      <td>2011-03-09 02:15:00</td>\n",
       "      <td>2700.0</td>\n",
       "      <td>0.25</td>\n",
       "    </tr>\n",
       "    <tr>\n",
       "      <th>278</th>\n",
       "      <td>900</td>\n",
       "      <td>2011-03-09 02:30:00</td>\n",
       "      <td>2700.0</td>\n",
       "      <td>0.25</td>\n",
       "    </tr>\n",
       "    <tr>\n",
       "      <th>279</th>\n",
       "      <td>900</td>\n",
       "      <td>2011-03-09 02:45:00</td>\n",
       "      <td>2700.0</td>\n",
       "      <td>0.25</td>\n",
       "    </tr>\n",
       "    <tr>\n",
       "      <th>280</th>\n",
       "      <td>900</td>\n",
       "      <td>2011-03-09 03:00:00</td>\n",
       "      <td>2400.0</td>\n",
       "      <td>0.25</td>\n",
       "    </tr>\n",
       "    <tr>\n",
       "      <th>281</th>\n",
       "      <td>900</td>\n",
       "      <td>2011-03-09 03:15:00</td>\n",
       "      <td>2700.0</td>\n",
       "      <td>0.25</td>\n",
       "    </tr>\n",
       "    <tr>\n",
       "      <th>282</th>\n",
       "      <td>900</td>\n",
       "      <td>2011-03-09 03:30:00</td>\n",
       "      <td>3300.0</td>\n",
       "      <td>0.25</td>\n",
       "    </tr>\n",
       "    <tr>\n",
       "      <th>283</th>\n",
       "      <td>900</td>\n",
       "      <td>2011-03-09 03:45:00</td>\n",
       "      <td>2700.0</td>\n",
       "      <td>0.25</td>\n",
       "    </tr>\n",
       "    <tr>\n",
       "      <th>284</th>\n",
       "      <td>900</td>\n",
       "      <td>2011-03-09 04:00:00</td>\n",
       "      <td>2400.0</td>\n",
       "      <td>0.25</td>\n",
       "    </tr>\n",
       "    <tr>\n",
       "      <th>285</th>\n",
       "      <td>900</td>\n",
       "      <td>2011-03-09 04:15:00</td>\n",
       "      <td>2700.0</td>\n",
       "      <td>0.25</td>\n",
       "    </tr>\n",
       "    <tr>\n",
       "      <th>286</th>\n",
       "      <td>900</td>\n",
       "      <td>2011-03-09 04:30:00</td>\n",
       "      <td>2700.0</td>\n",
       "      <td>0.25</td>\n",
       "    </tr>\n",
       "    <tr>\n",
       "      <th>287</th>\n",
       "      <td>900</td>\n",
       "      <td>2011-03-09 04:45:00</td>\n",
       "      <td>2400.0</td>\n",
       "      <td>0.25</td>\n",
       "    </tr>\n",
       "    <tr>\n",
       "      <th>288</th>\n",
       "      <td>900</td>\n",
       "      <td>2011-03-09 05:00:00</td>\n",
       "      <td>2700.0</td>\n",
       "      <td>0.25</td>\n",
       "    </tr>\n",
       "    <tr>\n",
       "      <th>289</th>\n",
       "      <td>900</td>\n",
       "      <td>2011-03-09 05:15:00</td>\n",
       "      <td>2700.0</td>\n",
       "      <td>0.25</td>\n",
       "    </tr>\n",
       "    <tr>\n",
       "      <th>290</th>\n",
       "      <td>900</td>\n",
       "      <td>2011-03-09 05:30:00</td>\n",
       "      <td>3000.0</td>\n",
       "      <td>0.25</td>\n",
       "    </tr>\n",
       "    <tr>\n",
       "      <th>291</th>\n",
       "      <td>900</td>\n",
       "      <td>2011-03-09 05:45:00</td>\n",
       "      <td>3000.0</td>\n",
       "      <td>0.25</td>\n",
       "    </tr>\n",
       "    <tr>\n",
       "      <th>292</th>\n",
       "      <td>900</td>\n",
       "      <td>2011-03-09 06:00:00</td>\n",
       "      <td>3300.0</td>\n",
       "      <td>0.25</td>\n",
       "    </tr>\n",
       "    <tr>\n",
       "      <th>293</th>\n",
       "      <td>900</td>\n",
       "      <td>2011-03-09 06:15:00</td>\n",
       "      <td>3900.0</td>\n",
       "      <td>0.25</td>\n",
       "    </tr>\n",
       "    <tr>\n",
       "      <th>294</th>\n",
       "      <td>900</td>\n",
       "      <td>2011-03-09 06:30:00</td>\n",
       "      <td>2700.0</td>\n",
       "      <td>0.25</td>\n",
       "    </tr>\n",
       "    <tr>\n",
       "      <th>295</th>\n",
       "      <td>900</td>\n",
       "      <td>2011-03-09 06:45:00</td>\n",
       "      <td>2700.0</td>\n",
       "      <td>0.25</td>\n",
       "    </tr>\n",
       "    <tr>\n",
       "      <th>296</th>\n",
       "      <td>900</td>\n",
       "      <td>2011-03-09 07:00:00</td>\n",
       "      <td>2400.0</td>\n",
       "      <td>0.25</td>\n",
       "    </tr>\n",
       "    <tr>\n",
       "      <th>297</th>\n",
       "      <td>900</td>\n",
       "      <td>2011-03-09 07:15:00</td>\n",
       "      <td>2700.0</td>\n",
       "      <td>0.25</td>\n",
       "    </tr>\n",
       "    <tr>\n",
       "      <th>298</th>\n",
       "      <td>900</td>\n",
       "      <td>2011-03-09 07:30:00</td>\n",
       "      <td>2400.0</td>\n",
       "      <td>0.25</td>\n",
       "    </tr>\n",
       "    <tr>\n",
       "      <th>299</th>\n",
       "      <td>900</td>\n",
       "      <td>2011-03-09 07:45:00</td>\n",
       "      <td>2700.0</td>\n",
       "      <td>0.25</td>\n",
       "    </tr>\n",
       "    <tr>\n",
       "      <th>300</th>\n",
       "      <td>900</td>\n",
       "      <td>2011-03-09 08:00:00</td>\n",
       "      <td>2400.0</td>\n",
       "      <td>0.25</td>\n",
       "    </tr>\n",
       "    <tr>\n",
       "      <th>301</th>\n",
       "      <td>900</td>\n",
       "      <td>2011-03-09 08:15:00</td>\n",
       "      <td>2400.0</td>\n",
       "      <td>0.25</td>\n",
       "    </tr>\n",
       "    <tr>\n",
       "      <th>302</th>\n",
       "      <td>900</td>\n",
       "      <td>2011-03-09 08:30:00</td>\n",
       "      <td>2700.0</td>\n",
       "      <td>0.25</td>\n",
       "    </tr>\n",
       "    <tr>\n",
       "      <th>303</th>\n",
       "      <td>900</td>\n",
       "      <td>2011-03-09 08:45:00</td>\n",
       "      <td>2700.0</td>\n",
       "      <td>0.25</td>\n",
       "    </tr>\n",
       "  </tbody>\n",
       "</table>\n",
       "<p>228 rows × 4 columns</p>\n",
       "</div>"
      ],
      "text/plain": [
       "    duration               start   value  duration_hrs\n",
       "76       900 2011-03-07 00:00:00  4500.0          0.25\n",
       "77       900 2011-03-07 00:15:00  4500.0          0.25\n",
       "78       900 2011-03-07 00:30:00  4800.0          0.25\n",
       "79       900 2011-03-07 00:45:00  4500.0          0.25\n",
       "80       900 2011-03-07 01:00:00  4500.0          0.25\n",
       "81       900 2011-03-07 01:15:00  4800.0          0.25\n",
       "82       900 2011-03-07 01:30:00  4500.0          0.25\n",
       "83       900 2011-03-07 01:45:00  4200.0          0.25\n",
       "84       900 2011-03-07 02:00:00  4200.0          0.25\n",
       "85       900 2011-03-07 02:15:00  4200.0          0.25\n",
       "86       900 2011-03-07 02:30:00  4500.0          0.25\n",
       "87       900 2011-03-07 02:45:00  4200.0          0.25\n",
       "88       900 2011-03-07 03:00:00  4200.0          0.25\n",
       "89       900 2011-03-07 03:15:00  3900.0          0.25\n",
       "90       900 2011-03-07 03:30:00  4200.0          0.25\n",
       "91       900 2011-03-07 03:45:00  3600.0          0.25\n",
       "92       900 2011-03-07 04:00:00  3000.0          0.25\n",
       "93       900 2011-03-07 04:15:00  2700.0          0.25\n",
       "94       900 2011-03-07 04:30:00  2400.0          0.25\n",
       "95       900 2011-03-07 04:45:00  2700.0          0.25\n",
       "96       900 2011-03-07 05:00:00  2700.0          0.25\n",
       "97       900 2011-03-07 05:15:00  2400.0          0.25\n",
       "98       900 2011-03-07 05:30:00  2400.0          0.25\n",
       "99       900 2011-03-07 05:45:00  2700.0          0.25\n",
       "100      900 2011-03-07 06:00:00  2400.0          0.25\n",
       "101      900 2011-03-07 06:15:00  2400.0          0.25\n",
       "102      900 2011-03-07 06:30:00  2400.0          0.25\n",
       "103      900 2011-03-07 06:45:00  2400.0          0.25\n",
       "104      900 2011-03-07 07:00:00  2400.0          0.25\n",
       "105      900 2011-03-07 07:15:00  2700.0          0.25\n",
       "..       ...                 ...     ...           ...\n",
       "274      900 2011-03-09 01:30:00  2700.0          0.25\n",
       "275      900 2011-03-09 01:45:00  3000.0          0.25\n",
       "276      900 2011-03-09 02:00:00  2700.0          0.25\n",
       "277      900 2011-03-09 02:15:00  2700.0          0.25\n",
       "278      900 2011-03-09 02:30:00  2700.0          0.25\n",
       "279      900 2011-03-09 02:45:00  2700.0          0.25\n",
       "280      900 2011-03-09 03:00:00  2400.0          0.25\n",
       "281      900 2011-03-09 03:15:00  2700.0          0.25\n",
       "282      900 2011-03-09 03:30:00  3300.0          0.25\n",
       "283      900 2011-03-09 03:45:00  2700.0          0.25\n",
       "284      900 2011-03-09 04:00:00  2400.0          0.25\n",
       "285      900 2011-03-09 04:15:00  2700.0          0.25\n",
       "286      900 2011-03-09 04:30:00  2700.0          0.25\n",
       "287      900 2011-03-09 04:45:00  2400.0          0.25\n",
       "288      900 2011-03-09 05:00:00  2700.0          0.25\n",
       "289      900 2011-03-09 05:15:00  2700.0          0.25\n",
       "290      900 2011-03-09 05:30:00  3000.0          0.25\n",
       "291      900 2011-03-09 05:45:00  3000.0          0.25\n",
       "292      900 2011-03-09 06:00:00  3300.0          0.25\n",
       "293      900 2011-03-09 06:15:00  3900.0          0.25\n",
       "294      900 2011-03-09 06:30:00  2700.0          0.25\n",
       "295      900 2011-03-09 06:45:00  2700.0          0.25\n",
       "296      900 2011-03-09 07:00:00  2400.0          0.25\n",
       "297      900 2011-03-09 07:15:00  2700.0          0.25\n",
       "298      900 2011-03-09 07:30:00  2400.0          0.25\n",
       "299      900 2011-03-09 07:45:00  2700.0          0.25\n",
       "300      900 2011-03-09 08:00:00  2400.0          0.25\n",
       "301      900 2011-03-09 08:15:00  2400.0          0.25\n",
       "302      900 2011-03-09 08:30:00  2700.0          0.25\n",
       "303      900 2011-03-09 08:45:00  2700.0          0.25\n",
       "\n",
       "[228 rows x 4 columns]"
      ]
     },
     "execution_count": 6,
     "metadata": {},
     "output_type": "execute_result"
    }
   ],
   "source": [
    "env.load.DF['value'][76] = 4500\n",
    "env.load.DF"
   ]
  },
  {
   "cell_type": "code",
   "execution_count": 7,
   "metadata": {},
   "outputs": [
    {
     "data": {
      "text/plain": [
       "2"
      ]
     },
     "execution_count": 7,
     "metadata": {},
     "output_type": "execute_result"
    }
   ],
   "source": [
    "# Get the do-nothing value for taking no action\n",
    "def dict_key_by_val(d, val):\n",
    "    for k in d.keys():\n",
    "        if d[k] == val:\n",
    "            return k\n",
    "    raise ValueError(\"value not found in dictionary\")\n",
    "    \n",
    "act0 = dict_key_by_val(env.action_mapping, 0)\n",
    "act0"
   ]
  },
  {
   "cell_type": "code",
   "execution_count": 8,
   "metadata": {},
   "outputs": [
    {
     "name": "stdout",
     "output_type": "stream",
     "text": [
      "remember to set self.actions = env.action_space!\n"
     ]
    }
   ],
   "source": [
    "''' Set up the agent and the discretizer.'''\n",
    "from batterydispatch.agent.agents import DynaQAgent\n",
    "from batterydispatch.agent.discretizers import Box_Discretizer\n",
    "\n",
    "from batterydispatch.agent.policies import do_nothing\n",
    "agent = DynaQAgent()\n",
    "agent.set_policy(do_nothing, {'do_nothing_action': act0})\n",
    "\n",
    "# Note, you can change the size of the state sapce by changing the number of buckets, below\n",
    "agent.set_discretizer(Box_Discretizer(env.observation_space, N=[6, 4, 12, 12]))\n",
    "agent.actions = env.action_space\n",
    "agent.learning_rate = 0.05 # used for the updates of the Q estimates\n",
    "agent.subtype = 'on-policy' # Setup the MC agent for off-policy learning\n",
    "\n",
    "global eps\n",
    "eps=0"
   ]
  },
  {
   "cell_type": "code",
   "execution_count": 46,
   "metadata": {},
   "outputs": [
    {
     "data": {
      "text/plain": [
       "[42]"
      ]
     },
     "execution_count": 46,
     "metadata": {},
     "output_type": "execute_result"
    }
   ],
   "source": [
    "seed = 42\n",
    "agent.set_seed(seed)\n",
    "env.set_seed(seed)\n"
   ]
  },
  {
   "cell_type": "code",
   "execution_count": 47,
   "metadata": {},
   "outputs": [
    {
     "name": "stdout",
     "output_type": "stream",
     "text": [
      "[   8.979441 4843.8696   5344.3896   3851.1821  ]\n",
      "[  13.34626 6842.9487  1834.3031  3286.6504 ]\n"
     ]
    }
   ],
   "source": [
    "\n",
    "print(env.observation_space.sample())\n",
    "print(env.observation_space.sample())\n"
   ]
  },
  {
   "cell_type": "code",
   "execution_count": null,
   "metadata": {},
   "outputs": [],
   "source": [
    "from gym.spaces import "
   ]
  },
  {
   "cell_type": "code",
   "execution_count": 39,
   "metadata": {},
   "outputs": [
    {
     "name": "stdout",
     "output_type": "stream",
     "text": [
      "[  14.647108 4577.328    1931.4066   5129.007   ]\n",
      "[   9.063035  894.4754   5263.6787   5895.132   ]\n"
     ]
    }
   ],
   "source": [
    "print(env.observation_space.sample())\n",
    "print(env.observation_space.sample())\n"
   ]
  },
  {
   "cell_type": "code",
   "execution_count": 40,
   "metadata": {},
   "outputs": [],
   "source": [
    "agent.set_greedy_policy(1)"
   ]
  },
  {
   "cell_type": "code",
   "execution_count": 41,
   "metadata": {},
   "outputs": [
    {
     "data": {
      "text/plain": [
       "4"
      ]
     },
     "execution_count": 41,
     "metadata": {},
     "output_type": "execute_result"
    }
   ],
   "source": [
    "state = env.reset()\n",
    "agent.get_action(state,  list(env.action_mapping.keys()), 0.25)"
   ]
  },
  {
   "cell_type": "code",
   "execution_count": 19,
   "metadata": {},
   "outputs": [
    {
     "data": {
      "text/plain": [
       "array([   8.450609, 3704.6824  , 5414.954   , 2356.2095  ], dtype=float32)"
      ]
     },
     "execution_count": 19,
     "metadata": {},
     "output_type": "execute_result"
    }
   ],
   "source": [
    "env.observation_space.sample()"
   ]
  },
  {
   "cell_type": "markdown",
   "metadata": {},
   "source": [
    "## Plot the day of data that we will be trying to learn from"
   ]
  },
  {
   "cell_type": "code",
   "execution_count": null,
   "metadata": {},
   "outputs": [],
   "source": [
    "\n",
    "done = False\n",
    "state = env.reset()\n",
    "i = 0\n",
    "while not done:\n",
    "    i+=1\n",
    "    _,reward,done, details = env.step(act0)\n",
    "\n",
    "from matplotlib import pyplot as plt\n",
    "plt.plot(env.grid_flow.net_flow)\n",
    "try:\n",
    "    print(list(env.grid_flow.start_date)[0])\n",
    "except:\n",
    "    pass\n",
    "print(i)\n",
    "print(reward)\n",
    "default_reward = reward\n",
    "plt.show()\n"
   ]
  },
  {
   "cell_type": "code",
   "execution_count": null,
   "metadata": {},
   "outputs": [],
   "source": [
    "# We then initialize the agent state-action estimates, based on the original billing period.\n",
    "# We also give the do_nothing action a small bonus of 100, in order to prevent the agent from arbitrarily taking action.\n",
    "agent.initialize_state_actions(new_default=default_reward,\n",
    "                              do_nothing_action = act0,\n",
    "                              do_nothing_bonus = 100)"
   ]
  },
  {
   "cell_type": "markdown",
   "metadata": {},
   "source": [
    "## Set up the function to run the episodes, and run episodes until convergence."
   ]
  },
  {
   "cell_type": "code",
   "execution_count": null,
   "metadata": {},
   "outputs": [],
   "source": [
    "# This function runs the actual episodes, repeatedly, until policy converges.\n",
    "\n",
    "from IPython.display import clear_output\n",
    "# initial state\n",
    "from batterydispatch.agent.agents import PolicyConvergedError\n",
    "\n",
    "eps=0\n",
    "history=[]\n",
    "def run_episodes(random_charge = True, run_type='to_convergence'):\n",
    "    possible_actions = list(env.action_mapping.keys())\n",
    "        \n",
    "    done=False\n",
    "    i = 0\n",
    "    \n",
    "    over=False\n",
    "    while not over:\n",
    "        state = env.reset(random_charge=random_charge)\n",
    "\n",
    "        i += 1\n",
    "        if i > 30:\n",
    "            i = 0\n",
    "            clear_output()\n",
    "\n",
    "        while not done:\n",
    "            action = agent.get_action(state, possible_actions, 0.25)\n",
    "            #print(action)\n",
    "            old_state = state.copy()\n",
    "            state, reward, done, details = env.step(action)\n",
    "            \n",
    "            agent.observe_sars(old_state, action, reward, state)\n",
    "        try:\n",
    "            agent.end_episode(reward)\n",
    "        except PolicyConvergedError:\n",
    "            converged = True\n",
    "            print(\"Converged!\")\n",
    "        try:\n",
    "            new_demand = max(env.grid_flow.net_flow)\n",
    "            orig_demand = max(env.grid_flow.load)\n",
    "        except AttributeError:\n",
    "            new_demand = \"???\"\n",
    "            orig_demand = \"???\"\n",
    "\n",
    "        done = False\n",
    "        ran_once = True\n",
    "\n",
    "\n",
    "        print(f\"Current reward of {int(reward)} / {int(default_reward)}, {new_demand} / {orig_demand}, patience={agent.patience_counter}\")\n",
    "        \n",
    "        if run_type == \"to_convergence\":\n",
    "            over = converged\n",
    "        elif run_type == \"once\":\n",
    "            over = ran_once\n",
    "        #converged = agent.check_policy_convergence(False)\n",
    "        history.append((eps, reward, new_demand, default_reward, orig_demand))\n",
    "    \n",
    "    return eps"
   ]
  },
  {
   "cell_type": "code",
   "execution_count": null,
   "metadata": {},
   "outputs": [],
   "source": [
    "# We then set the final parameters guiding the episodes: The agents proclivity for random actions, \n",
    "# the number of episodes without a policy change before we can say we've converge.\n",
    "agent.set_greedy_policy(eta=0.125)\n",
    "agent.patience = 100\n",
    "agent.planning_steps\n",
    "agent.name"
   ]
  },
  {
   "cell_type": "code",
   "execution_count": null,
   "metadata": {},
   "outputs": [],
   "source": [
    "agent.learning_rate = 0.075\n",
    "\n"
   ]
  },
  {
   "cell_type": "code",
   "execution_count": null,
   "metadata": {},
   "outputs": [],
   "source": [
    "%%time\n",
    "agent.set_greedy_policy(eta=0.05)\n",
    "\n",
    "starting_learning_rate = 0.05\n",
    "agent.planning_steps = 35\n",
    "agent.patience_counter = 0\n",
    "\n",
    "i=0\n",
    "\n",
    "\n",
    "while agent.learning_rate > 0.005:\n",
    "    i+=1\n",
    "    eps+=1\n",
    "        \n",
    "    if i==30:\n",
    "        i=0\n",
    "        clear_output()\n",
    "    run_episodes(random_charge = False, run_type=\"once\")\n",
    "    agent.learning_rate = starting_learning_rate * np.exp(-0.0002*eps)"
   ]
  },
  {
   "cell_type": "code",
   "execution_count": null,
   "metadata": {},
   "outputs": [],
   "source": [
    "len(history)"
   ]
  },
  {
   "cell_type": "code",
   "execution_count": null,
   "metadata": {},
   "outputs": [],
   "source": [
    "np.exp(-0.0002*10000)*0.05"
   ]
  },
  {
   "cell_type": "code",
   "execution_count": null,
   "metadata": {},
   "outputs": [],
   "source": [
    "agent.history"
   ]
  },
  {
   "cell_type": "code",
   "execution_count": null,
   "metadata": {},
   "outputs": [],
   "source": [
    "Qs = pd.DataFrame.from_dict(agent.S_A_values, orient='index')\n",
    "Qs.to_clipboard()"
   ]
  },
  {
   "cell_type": "code",
   "execution_count": null,
   "metadata": {},
   "outputs": [],
   "source": [
    "counts = pd.DataFrame.from_dict(agent.S_A_frequency, orient='index')\n",
    "counts.to_clipboard\n"
   ]
  },
  {
   "cell_type": "code",
   "execution_count": null,
   "metadata": {},
   "outputs": [],
   "source": [
    "print(f\"The agent converged after {eps} episodes\")"
   ]
  },
  {
   "cell_type": "markdown",
   "metadata": {},
   "source": [
    "Agent has taken between 10 and 30 minutes, and between 700 and 2262 episodes, to converge on day 1. Optimal policy:\n",
    "Current reward of -397414.125 / -406791.825, 5600.0 / 6000.0, patience=21\n",
    "\n",
    "For 2 days, agent took 5 hours 8 minutes, and converged after 21200 episodes."
   ]
  },
  {
   "cell_type": "markdown",
   "metadata": {},
   "source": [
    "## Then we allow the agent to take entirely greedy actions and run the algorithm to see how much the agent learned. "
   ]
  },
  {
   "cell_type": "code",
   "execution_count": null,
   "metadata": {},
   "outputs": [],
   "source": [
    "agent.set_greedy_policy(eta=0)\n",
    "    \n",
    "state = env.reset(random_charge=False)\n",
    "done = False\n",
    "while not done:\n",
    "    action = agent.get_action(state, list(env.action_mapping.keys()), 0.25)\n",
    "    #print(state)\n",
    "    #action = int(input(\"action:\"))\n",
    "\n",
    "    #print(action)\n",
    "    state, reward, done, details = env.step(action)\n",
    "\n",
    "try:\n",
    "    new_demand = max(env.grid_flow.net_flow)\n",
    "    orig_demand = max(env.grid_flow.load)\n",
    "except AttributeError:\n",
    "    new_demand = \"???\"\n",
    "    orig_demand = \"???\"\n",
    "    \n",
    "    env.grid_flow['final_reward'] = reward\n",
    "    env.grid_flow['original_reward'] = default_reward\n",
    "\n",
    "\n",
    "print(f\"Current reward of {reward} / {default_reward}, {new_demand} / {orig_demand}, patience={agent.patience_counter}\")\n",
    "\n",
    "\n"
   ]
  },
  {
   "cell_type": "code",
   "execution_count": null,
   "metadata": {},
   "outputs": [],
   "source": [
    "import sqlite3\n",
    "\n",
    "def save_results(scenario=None, agent_name=None, notes=None):\n",
    "    \n",
    "    \n",
    "    conn = sqlite3.connect('gym_battery_database.db')\n",
    "    \n",
    "    \n",
    "    result = conn.execute('SELECT MAX(id) FROM grid_flow_output;')\n",
    "    scenario_id = result.fetchone() + 1\n",
    "    \n",
    "    if scenario is None:\n",
    "        scenario = input(\"Enter the scenario name (i.e. the load used): \")\n",
    "    if agent is None:\n",
    "        scenario = input(\"Enter the agent name, or y to accept {}: \".format(agent.name))\n",
    "        if scenario.lower() == 'y':\n",
    "            scenario = agent.name\n",
    "    if notes is None:\n",
    "        notes = input(\"Consider adding any notes: \")\n",
    "    \n",
    "    saved_time = pd.Timestamp.now()\n",
    "    \n",
    "    # Save the final grid_flow using entirely greedy policy\n",
    "    DF = env.grid_flow.copy()\n",
    "    \n",
    "    DF['agent_state'] = [tuple(agent.discretize_space(np.array(s))) for s in DF.state]\n",
    "    agent_state_hash_table = {hash(s):s for s in DF.agent_state}\n",
    "    DF.agent_state = [hash(s) for s in DF.agent_state]\n",
    "    \n",
    "    state_hash_table = {hash(s):s for s in DF.state}\n",
    "    DF.state = [hash(s) for s in DF.state]\n",
    "    \n",
    "    DF['reward'] = reward\n",
    "    DF['agent'] = agent_name\n",
    "    DF['scenario'] = scenario\n",
    "    DF['episodes'] = len(history)\n",
    "    DF['notes'] = notes\n",
    "    DF['scenario_id'] = scenario_id\n",
    "    DF['saved_timestamp'] = saved_time\n",
    "    \n",
    "    DF.to_sql('grid_flow_output', conn, if_exists='append')\n",
    "\n",
    "    # Save the state-action value estimates\n",
    "    val = agent.S_A_values.copy()\n",
    "    val = pd.DataFrame.from_dict(val, orient='index')\n",
    "    val = val.reset_index()\n",
    "    val['state'] = [[i.level_0, i.level_1, i.level_2, i.level_3] for ix, i in val.iterrows()]\n",
    "    val = val.rename(columns={\"state\": \"agent_state\"})\n",
    "    val.index = val.agent_state\n",
    "    val = val.drop(columns=['level_0', 'level_1', 'level_2', 'level_3', 'agent_state'])\n",
    "    val.index = [tuple(x) for x in val.index]\n",
    "    \n",
    "    add_agent_state_hash = {hash(s):s for s in val.index if hash(s) not in agent_state_hash_table.keys()}\n",
    "    agent_state_hash_table.update(add_agent_state_hash)\n",
    "    \n",
    "    val.index = [hash(s) for s in val.index]\n",
    "    val['agent'] = agent_name\n",
    "    val['scenario'] = scenario\n",
    "    va['scenario_id'] = scenario_id\n",
    "    val['saved_timestamp'] = saved_time\n",
    "    val.to_sql('state_action_values', conn, if_exists='append')\n",
    "    \n",
    "    \n",
    "    agent_state_hash_DF = pd.DataFrame.from_dict(agent_state_hash_table, orient='index', columns=['hour', 'charge', 'load', 'demand'])\n",
    "    agent_state_hash_DF['saved_timestamp'] = saved_time\n",
    "    agent_state_hash_DF['state'] = agent_state_hash_DF.index\n",
    "    try:\n",
    "        agent_state_hash_DF = pd.read_sql('SELECT * FROM agent_states_hash;', conn).append(agent_state_hash_DF)\n",
    "    except:\n",
    "        print(\"Error reading in agent state hash table. Is this the first time you're running it?\")\n",
    "    agent_state_hash_DF.drop_duplicates(subset='state', inplace=True)\n",
    "    agent_state_hash_DF.reset_index(drop=True, inplace=True)\n",
    "    agent_state_hash_DF.saved_timestamp = pd.to_datetime(agent_state_hash_DF.saved_timestamp)\n",
    "#    conn.execute(\"DROP TABLE agent_states_hash;\")\n",
    "    try:\n",
    "        agent_state_hash_DF.to_sql('agent_states_hash', conn, if_exists='replace', index=False)    \n",
    "    except:\n",
    "        print(\"returnign DF\")\n",
    "        return agent_state_hash_DF\n",
    "\n",
    "    state_hash_DF = pd.DataFrame.from_dict(state_hash_table, orient='index', columns=['hour', 'charge', 'load', 'demand'])\n",
    "    state_hash_DF['saved_timestamp'] = saved_time\n",
    "    state_hash_DF['state'] = state_hash_DF.index\n",
    "    try:\n",
    "        state_hash_DF = pd.read_sql('SELECT * FROM states_hash;', conn).append(state_hash_DF)\n",
    "    except:\n",
    "        print(\"Error reading in state hash table. Is this the first time you're running it?\")\n",
    "    state_hash_DF.drop_duplicates(subset='state', inplace=True)\n",
    "    state_hash_DF.reset_index(drop=True, inplace=True)\n",
    "    state_hash_DF.saved_timestamp = pd.to_datetime(state_hash_DF.saved_timestamp)\n",
    "    state_hash_DF.to_sql('states_hash', conn, if_exists='replace', index=False)\n",
    "    \n",
    "    # Save the history of performance by episode\n",
    "    df_history = pd.DataFrame(history, columns=['episode_cnt', 'reward', 'new_demand', 'orig_reward', 'orig_demand'])\n",
    "    df_history['saved_timestamp'] =saved_time\n",
    "    df_history['agent'] = agent_name\n",
    "    df_history['scenario'] = scenario\n",
    "    df_history['scenario_id'] = scenario_id\n",
    "    df_history.to_sql('history', conn, if_exists='append')\n",
    "    \n",
    "    conn.close()"
   ]
  },
  {
   "cell_type": "code",
   "execution_count": null,
   "metadata": {},
   "outputs": [],
   "source": [
    "DF = save_results(scenario='Day1_load', agent_name='DynaQ', notes=\"ran the DynaQ agent again on the Day1 data, for a second (same agent)\")"
   ]
  },
  {
   "cell_type": "code",
   "execution_count": null,
   "metadata": {},
   "outputs": [],
   "source": [
    "pd.to_datetime(DF.saved_timestamp)"
   ]
  },
  {
   "cell_type": "code",
   "execution_count": null,
   "metadata": {},
   "outputs": [],
   "source": [
    "sum(DF.index.duplicated())"
   ]
  },
  {
   "cell_type": "code",
   "execution_count": 2,
   "metadata": {},
   "outputs": [],
   "source": [
    "import sqlite3\n",
    "conn = sqlite3.connect('gym_battery_database.db')\n",
    "    "
   ]
  },
  {
   "cell_type": "code",
   "execution_count": 5,
   "metadata": {},
   "outputs": [],
   "source": [
    "conn.execute('ALTER TABLE history ADD COLUMN epsilon FLOAT NULL;')\n",
    "conn.commit()"
   ]
  },
  {
   "cell_type": "code",
   "execution_count": 6,
   "metadata": {},
   "outputs": [
    {
     "data": {
      "text/plain": [
       "<sqlite3.Cursor at 0x4f47180>"
      ]
     },
     "execution_count": 6,
     "metadata": {},
     "output_type": "execute_result"
    }
   ],
   "source": [
    "conn.execute('select * from history;')"
   ]
  },
  {
   "cell_type": "code",
   "execution_count": null,
   "metadata": {},
   "outputs": [],
   "source": []
  }
 ],
 "metadata": {
  "kernelspec": {
   "display_name": "Python 3",
   "language": "python",
   "name": "python3"
  },
  "language_info": {
   "codemirror_mode": {
    "name": "ipython",
    "version": 3
   },
   "file_extension": ".py",
   "mimetype": "text/x-python",
   "name": "python",
   "nbconvert_exporter": "python",
   "pygments_lexer": "ipython3",
   "version": "3.6.5"
  }
 },
 "nbformat": 4,
 "nbformat_minor": 2
}
